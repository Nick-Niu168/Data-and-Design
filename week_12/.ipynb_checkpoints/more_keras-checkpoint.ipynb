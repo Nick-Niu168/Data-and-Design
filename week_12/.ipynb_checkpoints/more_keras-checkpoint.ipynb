{
 "cells": [
  {
   "cell_type": "markdown",
   "metadata": {},
   "source": [
    "# Keras Practice"
   ]
  },
  {
   "cell_type": "code",
   "execution_count": 1,
   "metadata": {},
   "outputs": [
    {
     "name": "stderr",
     "output_type": "stream",
     "text": [
      "Using TensorFlow backend.\n"
     ]
    }
   ],
   "source": [
    "%matplotlib inline\n",
    "import matplotlib.pyplot as plt\n",
    "import keras\n",
    "from keras import models\n",
    "from keras import layers\n",
    "import numpy as np"
   ]
  },
  {
   "cell_type": "code",
   "execution_count": 2,
   "metadata": {},
   "outputs": [],
   "source": [
    "from sklearn.datasets import load_breast_cancer"
   ]
  },
  {
   "cell_type": "code",
   "execution_count": 3,
   "metadata": {},
   "outputs": [],
   "source": [
    "cancer = load_breast_cancer()"
   ]
  },
  {
   "cell_type": "code",
   "execution_count": 4,
   "metadata": {},
   "outputs": [],
   "source": [
    "X = cancer.data\n",
    "y = cancer.target"
   ]
  },
  {
   "cell_type": "code",
   "execution_count": 5,
   "metadata": {},
   "outputs": [],
   "source": [
    "from sklearn.model_selection import train_test_split"
   ]
  },
  {
   "cell_type": "code",
   "execution_count": 6,
   "metadata": {},
   "outputs": [],
   "source": [
    "X_train, X_test, y_train, y_test = train_test_split(X, y)"
   ]
  },
  {
   "cell_type": "code",
   "execution_count": 7,
   "metadata": {},
   "outputs": [
    {
     "data": {
      "text/plain": [
       "array([0, 1])"
      ]
     },
     "execution_count": 7,
     "metadata": {},
     "output_type": "execute_result"
    }
   ],
   "source": [
    "np.unique(y)"
   ]
  },
  {
   "cell_type": "code",
   "execution_count": 8,
   "metadata": {},
   "outputs": [],
   "source": [
    "network = models.Sequential()"
   ]
  },
  {
   "cell_type": "code",
   "execution_count": 9,
   "metadata": {},
   "outputs": [],
   "source": [
    "network.add(layers.Dense(128, activation = 'relu', input_shape = (X_train.shape[1], )))\n",
    "network.add(layers.Dense(256, activation = 'relu'))"
   ]
  },
  {
   "cell_type": "code",
   "execution_count": 10,
   "metadata": {},
   "outputs": [],
   "source": [
    "network.add(layers.Dense(1, activation = 'sigmoid'))"
   ]
  },
  {
   "cell_type": "code",
   "execution_count": 11,
   "metadata": {},
   "outputs": [],
   "source": [
    "network.compile(optimizer = 'rmsprop', loss = 'binary_crossentropy', metrics = ['accuracy'])"
   ]
  },
  {
   "cell_type": "code",
   "execution_count": 25,
   "metadata": {},
   "outputs": [
    {
     "name": "stdout",
     "output_type": "stream",
     "text": [
      "Epoch 1/20\n",
      "426/426 [==============================] - 0s 12us/step - loss: 2.1403 - accuracy: 0.8498\n",
      "Epoch 2/20\n",
      "426/426 [==============================] - 0s 9us/step - loss: 0.8006 - accuracy: 0.9038\n",
      "Epoch 3/20\n",
      "426/426 [==============================] - 0s 9us/step - loss: 3.2657 - accuracy: 0.7371\n",
      "Epoch 4/20\n",
      "426/426 [==============================] - 0s 10us/step - loss: 1.1811 - accuracy: 0.8944\n",
      "Epoch 5/20\n",
      "426/426 [==============================] - 0s 9us/step - loss: 1.9094 - accuracy: 0.8545\n",
      "Epoch 6/20\n",
      "426/426 [==============================] - 0s 11us/step - loss: 3.3536 - accuracy: 0.7582\n",
      "Epoch 7/20\n",
      "426/426 [==============================] - 0s 10us/step - loss: 3.9543 - accuracy: 0.7488\n",
      "Epoch 8/20\n",
      "426/426 [==============================] - 0s 9us/step - loss: 0.8813 - accuracy: 0.9131\n",
      "Epoch 9/20\n",
      "426/426 [==============================] - 0s 9us/step - loss: 0.6324 - accuracy: 0.9108\n",
      "Epoch 10/20\n",
      "426/426 [==============================] - 0s 9us/step - loss: 2.5733 - accuracy: 0.8380\n",
      "Epoch 11/20\n",
      "426/426 [==============================] - 0s 11us/step - loss: 0.6766 - accuracy: 0.9249\n",
      "Epoch 12/20\n",
      "426/426 [==============================] - 0s 9us/step - loss: 6.6333 - accuracy: 0.6831\n",
      "Epoch 13/20\n",
      "426/426 [==============================] - 0s 9us/step - loss: 1.0160 - accuracy: 0.9108\n",
      "Epoch 14/20\n",
      "426/426 [==============================] - 0s 9us/step - loss: 0.6410 - accuracy: 0.9085\n",
      "Epoch 15/20\n",
      "426/426 [==============================] - 0s 9us/step - loss: 2.3061 - accuracy: 0.8263\n",
      "Epoch 16/20\n",
      "426/426 [==============================] - 0s 9us/step - loss: 1.2785 - accuracy: 0.9061\n",
      "Epoch 17/20\n",
      "426/426 [==============================] - 0s 9us/step - loss: 3.1377 - accuracy: 0.7981\n",
      "Epoch 18/20\n",
      "426/426 [==============================] - 0s 8us/step - loss: 1.0200 - accuracy: 0.8967\n",
      "Epoch 19/20\n",
      "426/426 [==============================] - 0s 9us/step - loss: 2.6182 - accuracy: 0.8333\n",
      "Epoch 20/20\n",
      "426/426 [==============================] - 0s 9us/step - loss: 0.8053 - accuracy: 0.9155\n"
     ]
    }
   ],
   "source": [
    "history = network.fit(X_train, y_train, epochs = 20, batch_size = 128)"
   ]
  },
  {
   "cell_type": "code",
   "execution_count": 26,
   "metadata": {},
   "outputs": [
    {
     "name": "stdout",
     "output_type": "stream",
     "text": [
      "143/143 [==============================] - 0s 17us/step\n"
     ]
    },
    {
     "data": {
      "text/plain": [
       "[0.6551453374548375, 0.9370629191398621]"
      ]
     },
     "execution_count": 26,
     "metadata": {},
     "output_type": "execute_result"
    }
   ],
   "source": [
    "network.evaluate(X_test, y_test)"
   ]
  },
  {
   "cell_type": "code",
   "execution_count": 27,
   "metadata": {},
   "outputs": [
    {
     "data": {
      "text/plain": [
       "[<matplotlib.lines.Line2D at 0x7f873605ff10>]"
      ]
     },
     "execution_count": 27,
     "metadata": {},
     "output_type": "execute_result"
    },
    {
     "data": {
      "image/png": "[encoded data removed]",
      "text/plain": [
       "<Figure size 432x288 with 1 Axes>"
      ]
     },
     "metadata": {
      "needs_background": "light"
     },
     "output_type": "display_data"
    }
   ],
   "source": [
    "plt.plot(history.history['accuracy'])\n",
    "plt.plot(history.history['loss'])"
   ]
  },
  {
   "cell_type": "code",
   "execution_count": null,
   "metadata": {},
   "outputs": [],
   "source": []
  },
  {
   "cell_type": "code",
   "execution_count": null,
   "metadata": {},
   "outputs": [],
   "source": []
  },
  {
   "cell_type": "code",
   "execution_count": null,
   "metadata": {},
   "outputs": [],
   "source": []
  },
  {
   "cell_type": "code",
   "execution_count": 44,
   "metadata": {},
   "outputs": [],
   "source": [
    "from sklearn.datasets import fetch_california_housing"
   ]
  },
  {
   "cell_type": "code",
   "execution_count": 45,
   "metadata": {},
   "outputs": [],
   "source": [
    "houses = fetch_california_housing()"
   ]
  },
  {
   "cell_type": "code",
   "execution_count": 50,
   "metadata": {},
   "outputs": [],
   "source": [
    "X = houses.data\n",
    "y = houses.target\n",
    "X_train, X_test, y_train, y_test = train_test_split(X, y)"
   ]
  },
  {
   "cell_type": "code",
   "execution_count": 49,
   "metadata": {},
   "outputs": [],
   "source": [
    "network = models.Sequential()"
   ]
  },
  {
   "cell_type": "code",
   "execution_count": 51,
   "metadata": {},
   "outputs": [],
   "source": [
    "network.add(layers.Dense(64, activation = 'relu', input_shape = (X_train.shape[1], )))"
   ]
  },
  {
   "cell_type": "code",
   "execution_count": 52,
   "metadata": {},
   "outputs": [],
   "source": [
    "network.add(layers.Dense(32, activation = 'relu'))\n",
    "network.add(layers.Dense(1))"
   ]
  },
  {
   "cell_type": "code",
   "execution_count": 53,
   "metadata": {},
   "outputs": [],
   "source": [
    "network.compile(optimizer = 'rmsprop', loss = 'mse', metrics = ['mae'])"
   ]
  },
  {
   "cell_type": "code",
   "execution_count": 62,
   "metadata": {},
   "outputs": [
    {
     "name": "stdout",
     "output_type": "stream",
     "text": [
      "Train on 15480 samples, validate on 5160 samples\n",
      "Epoch 1/10\n",
      "15480/15480 [==============================] - 0s 4us/step - loss: 25.0395 - mae: 3.0265 - val_loss: 2.0995 - val_mae: 1.0750\n",
      "Epoch 2/10\n",
      "15480/15480 [==============================] - 0s 4us/step - loss: 23.1802 - mae: 3.0751 - val_loss: 35.3048 - val_mae: 4.6032\n",
      "Epoch 3/10\n",
      "15480/15480 [==============================] - 0s 4us/step - loss: 19.7255 - mae: 2.6681 - val_loss: 1.4098 - val_mae: 0.9916\n",
      "Epoch 4/10\n",
      "15480/15480 [==============================] - 0s 4us/step - loss: 21.5559 - mae: 2.6180 - val_loss: 1.2577 - val_mae: 0.8600\n",
      "Epoch 5/10\n",
      "15480/15480 [==============================] - 0s 4us/step - loss: 15.5559 - mae: 2.3567 - val_loss: 1.1205 - val_mae: 0.7826\n",
      "Epoch 6/10\n",
      "15480/15480 [==============================] - 0s 4us/step - loss: 15.1266 - mae: 2.2251 - val_loss: 64.8033 - val_mae: 6.3093\n",
      "Epoch 7/10\n",
      "15480/15480 [==============================] - 0s 4us/step - loss: 14.8645 - mae: 2.2783 - val_loss: 7.9991 - val_mae: 2.3219\n",
      "Epoch 8/10\n",
      "15480/15480 [==============================] - 0s 4us/step - loss: 13.6748 - mae: 2.3662 - val_loss: 12.9962 - val_mae: 2.9112\n",
      "Epoch 9/10\n",
      "15480/15480 [==============================] - 0s 4us/step - loss: 13.1433 - mae: 2.0963 - val_loss: 10.7519 - val_mae: 2.5290\n",
      "Epoch 10/10\n",
      "15480/15480 [==============================] - 0s 4us/step - loss: 15.8349 - mae: 2.2005 - val_loss: 9.1945 - val_mae: 2.2660\n"
     ]
    }
   ],
   "source": [
    "history = network.fit(X_train, y_train, epochs = 10, batch_size = 148, validation_data=[X_test, y_test])"
   ]
  },
  {
   "cell_type": "code",
   "execution_count": 56,
   "metadata": {},
   "outputs": [
    {
     "name": "stdout",
     "output_type": "stream",
     "text": [
      "5160/5160 [==============================] - 0s 9us/step\n"
     ]
    },
    {
     "data": {
      "text/plain": [
       "[1.6236953862877779, 0.9795140624046326]"
      ]
     },
     "execution_count": 56,
     "metadata": {},
     "output_type": "execute_result"
    }
   ],
   "source": [
    "network.evaluate(X_test, y_test)"
   ]
  },
  {
   "cell_type": "code",
   "execution_count": 63,
   "metadata": {},
   "outputs": [
    {
     "data": {
      "text/plain": [
       "dict_keys(['val_loss', 'val_mae', 'loss', 'mae'])"
      ]
     },
     "execution_count": 63,
     "metadata": {},
     "output_type": "execute_result"
    }
   ],
   "source": [
    "history.history.keys()"
   ]
  },
  {
   "cell_type": "code",
   "execution_count": 65,
   "metadata": {},
   "outputs": [
    {
     "data": {
      "text/plain": [
       "[<matplotlib.lines.Line2D at 0x7fe25a9497d0>]"
      ]
     },
     "execution_count": 65,
     "metadata": {},
     "output_type": "execute_result"
    },
    {
     "data": {
      "image/png": "[encoded data removed]",
      "text/plain": [
       "<Figure size 432x288 with 1 Axes>"
      ]
     },
     "metadata": {
      "needs_background": "light"
     },
     "output_type": "display_data"
    }
   ],
   "source": [
    "plt.plot(history.history['loss'], 'o')\n",
    "plt.plot(history.history['val_loss'], '-o')"
   ]
  }
 ],
 "metadata": {
  "kernelspec": {
   "display_name": "Python 3",
   "language": "python",
   "name": "python3"
  },
  "language_info": {
   "codemirror_mode": {
    "name": "ipython",
    "version": 3
   },
   "file_extension": ".py",
   "mimetype": "text/x-python",
   "name": "python",
   "nbconvert_exporter": "python",
   "pygments_lexer": "ipython3",
   "version": "3.7.4"
  },
  "widgets": {
   "application/vnd.jupyter.widget-state+json": {
    "state": {},
    "version_major": 2,
    "version_minor": 0
   }
  }
 },
 "nbformat": 4,
 "nbformat_minor": 4
}
