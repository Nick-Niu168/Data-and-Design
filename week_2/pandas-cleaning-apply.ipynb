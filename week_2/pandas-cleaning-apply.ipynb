{
 "cells": [
  {
   "cell_type": "markdown",
   "metadata": {},
   "source": [
    "# Cleaning Rock Songs"
   ]
  },
  {
   "cell_type": "code",
   "execution_count": 1,
   "metadata": {},
   "outputs": [],
   "source": [
    "import pandas as pd\n",
    "import numpy as np \n",
    "import seaborn as sns\n",
    "\n",
    "%matplotlib inline"
   ]
  },
  {
   "cell_type": "markdown",
   "metadata": {},
   "source": [
    "### 1. Load `rock.csv` and do an initial examination of its data columns."
   ]
  },
  {
   "cell_type": "code",
   "execution_count": 26,
   "metadata": {},
   "outputs": [],
   "source": [
    "rockfile = \"rock.csv\""
   ]
  },
  {
   "cell_type": "code",
   "execution_count": 27,
   "metadata": {
    "collapsed": false,
    "jupyter": {
     "outputs_hidden": false
    }
   },
   "outputs": [],
   "source": [
    "# Load the data.\n",
    "rock = pd.read_csv(rockfile)"
   ]
  },
  {
   "cell_type": "code",
   "execution_count": 28,
   "metadata": {
    "collapsed": false,
    "jupyter": {
     "outputs_hidden": false
    }
   },
   "outputs": [],
   "source": [
    "# Look at the information regarding its columns."
   ]
  },
  {
   "cell_type": "markdown",
   "metadata": {},
   "source": [
    "### 2.  Clean up the column names.\n",
    "\n",
    "Let's clean up the column names. There are two ways we can accomplish this:\n",
    "\n",
    "#### 2.A Change the column names when you import the data using `pd.read_csv()`.\n",
    "\n",
    "Notice that, when passing `names=[..A LIST OF STRING..]` with a number of columns that matches the number of strings in the passed list, you replace the column names.\n",
    "\n",
    "NOTE: When you create custom column names, the first row of the `.csv` already represents a header. It is important to tell `pandas` to skip that row. The `skiprows=1` keyword argument to `read_csv()` will tell `pandas` to skip the first row."
   ]
  },
  {
   "cell_type": "code",
   "execution_count": 5,
   "metadata": {
    "collapsed": false,
    "jupyter": {
     "outputs_hidden": false
    }
   },
   "outputs": [],
   "source": [
    "# Change the column names when loading the '.csv':"
   ]
  },
  {
   "cell_type": "markdown",
   "metadata": {},
   "source": [
    "#### 2.B Change column names using the `.rename()` function.\n",
    "\n",
    "The `.rename()` function takes an argument, `columns=name_dict`, in which `name_dict` is a dictionary containing the original column names as keys and the new column names as values."
   ]
  },
  {
   "cell_type": "code",
   "execution_count": 6,
   "metadata": {
    "collapsed": false,
    "jupyter": {
     "outputs_hidden": false
    }
   },
   "outputs": [],
   "source": [
    "# Change the column names using the `.rename()` function."
   ]
  },
  {
   "cell_type": "markdown",
   "metadata": {},
   "source": [
    "#### 2.C Reassigning the `.columns` attribute of a DataFrame.\n",
    "\n",
    "You can also just reassign the `.columns` attribute to a list of strings containing the new column names. \n",
    "\n",
    "The only caveat with reassigning `.columns` is that you have to reassign all of the column names at once. You can't partially replace a value by working on `.columns` directly. You have to reassign `.columns` with a list of equal length. "
   ]
  },
  {
   "cell_type": "code",
   "execution_count": 7,
   "metadata": {
    "collapsed": false,
    "jupyter": {
     "outputs_hidden": false
    }
   },
   "outputs": [],
   "source": [
    "# Replace the column names by reassigning the `.columns` attribute."
   ]
  },
  {
   "cell_type": "markdown",
   "metadata": {},
   "source": [
    "### 3. Subsetting data where null values exist.\n",
    "\n",
    "We have mixed `str` and `NaN` values in the `release` column. `NaN` stands for \"not a number\" and is the way `pandas` handles \"nulls\" or nonexistent data. We can use the `.isnull()` method of a Series to find null values.\n",
    "\n",
    "Print the header of the data subset to where the `release` column is null values."
   ]
  },
  {
   "cell_type": "code",
   "execution_count": 8,
   "metadata": {
    "collapsed": false,
    "jupyter": {
     "outputs_hidden": false
    }
   },
   "outputs": [],
   "source": [
    "# Show records where df['release'] is null"
   ]
  },
  {
   "cell_type": "markdown",
   "metadata": {},
   "source": [
    "### 4. Update slices of your DataFrame based on mask selection/slices.\n",
    "\n",
    "In many scenarios, we want to upate values in our DataFrame according to criteria. Let's say we wanted to set all of the null values in `release` to 0.\n",
    "\n",
    "With newer versions of `pandas`, in order to manipulate data in the original DataFrame, we have to use `.loc` while performing reassignment using a mask and an index.\n",
    "\n",
    "For example, the following won't always work:\n",
    "```python\n",
    "df[row_mask]['column_name'] = new_value\n",
    "```\n",
    "\n",
    "The best way to accomplish the same task is:\n",
    "```python\n",
    "df.loc[row_mask, 'column_name'] = new_value\n",
    "```\n",
    "\n",
    "For multiple column assignment, you would use:\n",
    "```python\n",
    "df.loc[row_mask, ['col_1', 'col_2', 'col_3']] = new_value\n",
    "```\n",
    "\n",
    "#### 4.A Let's try it out. Make all of the null values in `release` 0."
   ]
  },
  {
   "cell_type": "code",
   "execution_count": 9,
   "metadata": {
    "collapsed": false,
    "jupyter": {
     "outputs_hidden": false
    }
   },
   "outputs": [],
   "source": [
    "# Replace release nulls with 0"
   ]
  },
  {
   "cell_type": "markdown",
   "metadata": {},
   "source": [
    "#### 4.B Verify that `release` contains no null values."
   ]
  },
  {
   "cell_type": "code",
   "execution_count": 10,
   "metadata": {
    "collapsed": false,
    "jupyter": {
     "outputs_hidden": false
    }
   },
   "outputs": [],
   "source": [
    "# A:"
   ]
  },
  {
   "cell_type": "markdown",
   "metadata": {},
   "source": [
    "### 5. Ensure that the data types of the columns make sense. \n",
    "\n",
    "Verifying column data types is a critical part of data munging. If columns have the wrong data type, then there is usually corrupted or incorrect data in some of the observations.\n",
    "\n",
    "#### 5.A Look at the data types for the columns. Are any incorrect given what the data represents?"
   ]
  },
  {
   "cell_type": "code",
   "execution_count": 11,
   "metadata": {
    "collapsed": false,
    "jupyter": {
     "outputs_hidden": false
    }
   },
   "outputs": [],
   "source": [
    "# A:"
   ]
  },
  {
   "cell_type": "markdown",
   "metadata": {},
   "source": [
    "### 6. Investigate and clean up the `release` column.\n",
    "\n",
    "The `release` column is a string data type when it should be an integer.\n",
    "\n",
    "#### 6.A Figure out what value(s) are causing the `release` column to be encoded as a string instead of an integer."
   ]
  },
  {
   "cell_type": "code",
   "execution_count": 36,
   "metadata": {
    "collapsed": false,
    "jupyter": {
     "outputs_hidden": false
    }
   },
   "outputs": [
    {
     "name": "stdout",
     "output_type": "stream",
     "text": [
      "<class 'pandas.core.frame.DataFrame'>\n",
      "RangeIndex: 2230 entries, 0 to 2229\n",
      "Data columns (total 8 columns):\n",
      "Song Clean      2230 non-null object\n",
      "ARTIST CLEAN    2230 non-null object\n",
      "Release Year    1653 non-null object\n",
      "COMBINED        2230 non-null object\n",
      "First?          2230 non-null int64\n",
      "Year?           2230 non-null int64\n",
      "PlayCount       2230 non-null int64\n",
      "F*G             2230 non-null int64\n",
      "dtypes: int64(4), object(4)\n",
      "memory usage: 139.5+ KB\n"
     ]
    }
   ],
   "source": [
    "# A:\n",
    "rock.info()"
   ]
  },
  {
   "cell_type": "code",
   "execution_count": 39,
   "metadata": {},
   "outputs": [
    {
     "data": {
      "text/plain": [
       "0       False\n",
       "1        True\n",
       "2       False\n",
       "3       False\n",
       "4       False\n",
       "        ...  \n",
       "2225     True\n",
       "2226    False\n",
       "2227    False\n",
       "2228    False\n",
       "2229    False\n",
       "Name: Release Year, Length: 2230, dtype: bool"
      ]
     },
     "execution_count": 39,
     "metadata": {},
     "output_type": "execute_result"
    }
   ],
   "source": [
    "rock['Release Year'].isnull()#.notnull()"
   ]
  },
  {
   "cell_type": "code",
   "execution_count": 40,
   "metadata": {},
   "outputs": [
    {
     "data": {
      "text/plain": [
       "0        True\n",
       "1       False\n",
       "2        True\n",
       "3       False\n",
       "4       False\n",
       "        ...  \n",
       "2225    False\n",
       "2226     True\n",
       "2227     True\n",
       "2228    False\n",
       "2229    False\n",
       "Name: PlayCount, Length: 2230, dtype: bool"
      ]
     },
     "execution_count": 40,
     "metadata": {},
     "output_type": "execute_result"
    }
   ],
   "source": [
    "rock['PlayCount'] > 20"
   ]
  },
  {
   "cell_type": "code",
   "execution_count": 42,
   "metadata": {},
   "outputs": [
    {
     "data": {
      "text/html": [
       "<div>\n",
       "<style scoped>\n",
       "    .dataframe tbody tr th:only-of-type {\n",
       "        vertical-align: middle;\n",
       "    }\n",
       "\n",
       "    .dataframe tbody tr th {\n",
       "        vertical-align: top;\n",
       "    }\n",
       "\n",
       "    .dataframe thead th {\n",
       "        text-align: right;\n",
       "    }\n",
       "</style>\n",
       "<table border=\"1\" class=\"dataframe\">\n",
       "  <thead>\n",
       "    <tr style=\"text-align: right;\">\n",
       "      <th></th>\n",
       "      <th>Song Clean</th>\n",
       "      <th>ARTIST CLEAN</th>\n",
       "      <th>Release Year</th>\n",
       "      <th>COMBINED</th>\n",
       "      <th>First?</th>\n",
       "      <th>Year?</th>\n",
       "      <th>PlayCount</th>\n",
       "      <th>F*G</th>\n",
       "    </tr>\n",
       "  </thead>\n",
       "  <tbody>\n",
       "    <tr>\n",
       "      <td>10</td>\n",
       "      <td>Baby, Please Don't Go</td>\n",
       "      <td>AC/DC</td>\n",
       "      <td>NaN</td>\n",
       "      <td>Baby, Please Don't Go by AC/DC</td>\n",
       "      <td>1</td>\n",
       "      <td>0</td>\n",
       "      <td>1</td>\n",
       "      <td>0</td>\n",
       "    </tr>\n",
       "    <tr>\n",
       "      <td>11</td>\n",
       "      <td>Back In Black</td>\n",
       "      <td>AC/DC</td>\n",
       "      <td>1980</td>\n",
       "      <td>Back In Black by AC/DC</td>\n",
       "      <td>1</td>\n",
       "      <td>1</td>\n",
       "      <td>97</td>\n",
       "      <td>97</td>\n",
       "    </tr>\n",
       "    <tr>\n",
       "      <td>12</td>\n",
       "      <td>Big Gun</td>\n",
       "      <td>AC/DC</td>\n",
       "      <td>1993</td>\n",
       "      <td>Big Gun by AC/DC</td>\n",
       "      <td>1</td>\n",
       "      <td>1</td>\n",
       "      <td>6</td>\n",
       "      <td>6</td>\n",
       "    </tr>\n",
       "    <tr>\n",
       "      <td>13</td>\n",
       "      <td>CAN'T STOP ROCK'N'ROLL</td>\n",
       "      <td>AC/DC</td>\n",
       "      <td>NaN</td>\n",
       "      <td>CAN'T STOP ROCK'N'ROLL by AC/DC</td>\n",
       "      <td>1</td>\n",
       "      <td>0</td>\n",
       "      <td>5</td>\n",
       "      <td>0</td>\n",
       "    </tr>\n",
       "    <tr>\n",
       "      <td>14</td>\n",
       "      <td>Dirty Deeds Done Dirt Cheap</td>\n",
       "      <td>AC/DC</td>\n",
       "      <td>1976</td>\n",
       "      <td>Dirty Deeds Done Dirt Cheap by AC/DC</td>\n",
       "      <td>1</td>\n",
       "      <td>1</td>\n",
       "      <td>85</td>\n",
       "      <td>85</td>\n",
       "    </tr>\n",
       "    <tr>\n",
       "      <td>15</td>\n",
       "      <td>For Those About To Rock</td>\n",
       "      <td>AC/DC</td>\n",
       "      <td>1981</td>\n",
       "      <td>For Those About To Rock by AC/DC</td>\n",
       "      <td>1</td>\n",
       "      <td>1</td>\n",
       "      <td>46</td>\n",
       "      <td>46</td>\n",
       "    </tr>\n",
       "    <tr>\n",
       "      <td>16</td>\n",
       "      <td>Girls Got Rhythm</td>\n",
       "      <td>AC/DC</td>\n",
       "      <td>NaN</td>\n",
       "      <td>Girls Got Rhythm by AC/DC</td>\n",
       "      <td>1</td>\n",
       "      <td>0</td>\n",
       "      <td>24</td>\n",
       "      <td>0</td>\n",
       "    </tr>\n",
       "    <tr>\n",
       "      <td>17</td>\n",
       "      <td>Hard As A Rock</td>\n",
       "      <td>AC/DC</td>\n",
       "      <td>1995</td>\n",
       "      <td>Hard As A Rock by AC/DC</td>\n",
       "      <td>1</td>\n",
       "      <td>1</td>\n",
       "      <td>1</td>\n",
       "      <td>1</td>\n",
       "    </tr>\n",
       "    <tr>\n",
       "      <td>18</td>\n",
       "      <td>Have a Drink On Me</td>\n",
       "      <td>AC/DC</td>\n",
       "      <td>1980</td>\n",
       "      <td>Have a Drink On Me by AC/DC</td>\n",
       "      <td>1</td>\n",
       "      <td>1</td>\n",
       "      <td>39</td>\n",
       "      <td>39</td>\n",
       "    </tr>\n",
       "    <tr>\n",
       "      <td>19</td>\n",
       "      <td>Hells Bells</td>\n",
       "      <td>AC/DC</td>\n",
       "      <td>1980</td>\n",
       "      <td>Hells Bells by AC/DC</td>\n",
       "      <td>1</td>\n",
       "      <td>1</td>\n",
       "      <td>74</td>\n",
       "      <td>74</td>\n",
       "    </tr>\n",
       "    <tr>\n",
       "      <td>20</td>\n",
       "      <td>Highway To Hell</td>\n",
       "      <td>AC/DC</td>\n",
       "      <td>1979</td>\n",
       "      <td>Highway To Hell by AC/DC</td>\n",
       "      <td>1</td>\n",
       "      <td>1</td>\n",
       "      <td>92</td>\n",
       "      <td>92</td>\n",
       "    </tr>\n",
       "    <tr>\n",
       "      <td>21</td>\n",
       "      <td>It's A Long Way To The Top</td>\n",
       "      <td>AC/DC</td>\n",
       "      <td>1975</td>\n",
       "      <td>It's A Long Way To The Top by AC/DC</td>\n",
       "      <td>1</td>\n",
       "      <td>1</td>\n",
       "      <td>39</td>\n",
       "      <td>39</td>\n",
       "    </tr>\n",
       "    <tr>\n",
       "      <td>22</td>\n",
       "      <td>Jailbreak</td>\n",
       "      <td>AC/DC</td>\n",
       "      <td>1984</td>\n",
       "      <td>Jailbreak by AC/DC</td>\n",
       "      <td>1</td>\n",
       "      <td>1</td>\n",
       "      <td>1</td>\n",
       "      <td>1</td>\n",
       "    </tr>\n",
       "    <tr>\n",
       "      <td>23</td>\n",
       "      <td>Let There Be Rock</td>\n",
       "      <td>AC/DC</td>\n",
       "      <td>1977</td>\n",
       "      <td>Let There Be Rock by AC/DC</td>\n",
       "      <td>1</td>\n",
       "      <td>1</td>\n",
       "      <td>3</td>\n",
       "      <td>3</td>\n",
       "    </tr>\n",
       "    <tr>\n",
       "      <td>24</td>\n",
       "      <td>Let's Get It Up</td>\n",
       "      <td>AC/DC</td>\n",
       "      <td>NaN</td>\n",
       "      <td>Let's Get It Up by AC/DC</td>\n",
       "      <td>1</td>\n",
       "      <td>0</td>\n",
       "      <td>4</td>\n",
       "      <td>0</td>\n",
       "    </tr>\n",
       "    <tr>\n",
       "      <td>25</td>\n",
       "      <td>Live Wire</td>\n",
       "      <td>AC/DC</td>\n",
       "      <td>NaN</td>\n",
       "      <td>Live Wire by AC/DC</td>\n",
       "      <td>1</td>\n",
       "      <td>0</td>\n",
       "      <td>2</td>\n",
       "      <td>0</td>\n",
       "    </tr>\n",
       "    <tr>\n",
       "      <td>26</td>\n",
       "      <td>Moneytalks</td>\n",
       "      <td>AC/DC</td>\n",
       "      <td>NaN</td>\n",
       "      <td>Moneytalks by AC/DC</td>\n",
       "      <td>1</td>\n",
       "      <td>0</td>\n",
       "      <td>20</td>\n",
       "      <td>0</td>\n",
       "    </tr>\n",
       "    <tr>\n",
       "      <td>27</td>\n",
       "      <td>Night Prowler</td>\n",
       "      <td>AC/DC</td>\n",
       "      <td>1979</td>\n",
       "      <td>Night Prowler by AC/DC</td>\n",
       "      <td>1</td>\n",
       "      <td>1</td>\n",
       "      <td>1</td>\n",
       "      <td>1</td>\n",
       "    </tr>\n",
       "    <tr>\n",
       "      <td>28</td>\n",
       "      <td>Rock and Roll Ain't Noise Pollution</td>\n",
       "      <td>AC/DC</td>\n",
       "      <td>1980</td>\n",
       "      <td>Rock and Roll Ain't Noise Pollution by AC/DC</td>\n",
       "      <td>1</td>\n",
       "      <td>1</td>\n",
       "      <td>21</td>\n",
       "      <td>21</td>\n",
       "    </tr>\n",
       "    <tr>\n",
       "      <td>29</td>\n",
       "      <td>Shoot To Thrill</td>\n",
       "      <td>AC/DC</td>\n",
       "      <td>NaN</td>\n",
       "      <td>Shoot To Thrill by AC/DC</td>\n",
       "      <td>1</td>\n",
       "      <td>0</td>\n",
       "      <td>45</td>\n",
       "      <td>0</td>\n",
       "    </tr>\n",
       "    <tr>\n",
       "      <td>30</td>\n",
       "      <td>Shot Down In Flames</td>\n",
       "      <td>AC/DC</td>\n",
       "      <td>1979</td>\n",
       "      <td>Shot Down In Flames by AC/DC</td>\n",
       "      <td>1</td>\n",
       "      <td>1</td>\n",
       "      <td>2</td>\n",
       "      <td>2</td>\n",
       "    </tr>\n",
       "    <tr>\n",
       "      <td>31</td>\n",
       "      <td>Sin City</td>\n",
       "      <td>AC/DC</td>\n",
       "      <td>NaN</td>\n",
       "      <td>Sin City by AC/DC</td>\n",
       "      <td>1</td>\n",
       "      <td>0</td>\n",
       "      <td>1</td>\n",
       "      <td>0</td>\n",
       "    </tr>\n",
       "    <tr>\n",
       "      <td>32</td>\n",
       "      <td>T.N.T.</td>\n",
       "      <td>AC/DC</td>\n",
       "      <td>1975</td>\n",
       "      <td>T.N.T. by AC/DC</td>\n",
       "      <td>1</td>\n",
       "      <td>1</td>\n",
       "      <td>66</td>\n",
       "      <td>66</td>\n",
       "    </tr>\n",
       "    <tr>\n",
       "      <td>33</td>\n",
       "      <td>Thunderstruck</td>\n",
       "      <td>AC/DC</td>\n",
       "      <td>1990</td>\n",
       "      <td>Thunderstruck by AC/DC</td>\n",
       "      <td>1</td>\n",
       "      <td>1</td>\n",
       "      <td>34</td>\n",
       "      <td>34</td>\n",
       "    </tr>\n",
       "    <tr>\n",
       "      <td>34</td>\n",
       "      <td>Touch Too Much</td>\n",
       "      <td>AC/DC</td>\n",
       "      <td>1979</td>\n",
       "      <td>Touch Too Much by AC/DC</td>\n",
       "      <td>1</td>\n",
       "      <td>1</td>\n",
       "      <td>2</td>\n",
       "      <td>2</td>\n",
       "    </tr>\n",
       "    <tr>\n",
       "      <td>35</td>\n",
       "      <td>What Do You Do For Money Honey</td>\n",
       "      <td>AC/DC</td>\n",
       "      <td>NaN</td>\n",
       "      <td>What Do You Do For Money Honey by AC/DC</td>\n",
       "      <td>1</td>\n",
       "      <td>0</td>\n",
       "      <td>2</td>\n",
       "      <td>0</td>\n",
       "    </tr>\n",
       "    <tr>\n",
       "      <td>36</td>\n",
       "      <td>Who Made Who</td>\n",
       "      <td>AC/DC</td>\n",
       "      <td>1986</td>\n",
       "      <td>Who Made Who by AC/DC</td>\n",
       "      <td>1</td>\n",
       "      <td>1</td>\n",
       "      <td>12</td>\n",
       "      <td>12</td>\n",
       "    </tr>\n",
       "    <tr>\n",
       "      <td>37</td>\n",
       "      <td>Whole Lotta Rosie</td>\n",
       "      <td>AC/DC</td>\n",
       "      <td>1977</td>\n",
       "      <td>Whole Lotta Rosie by AC/DC</td>\n",
       "      <td>1</td>\n",
       "      <td>1</td>\n",
       "      <td>3</td>\n",
       "      <td>3</td>\n",
       "    </tr>\n",
       "    <tr>\n",
       "      <td>38</td>\n",
       "      <td>You Shook Me All Night Long</td>\n",
       "      <td>AC/DC</td>\n",
       "      <td>1980</td>\n",
       "      <td>You Shook Me All Night Long by AC/DC</td>\n",
       "      <td>1</td>\n",
       "      <td>1</td>\n",
       "      <td>138</td>\n",
       "      <td>138</td>\n",
       "    </tr>\n",
       "  </tbody>\n",
       "</table>\n",
       "</div>"
      ],
      "text/plain": [
       "                             Song Clean ARTIST CLEAN Release Year  \\\n",
       "10                Baby, Please Don't Go        AC/DC          NaN   \n",
       "11                        Back In Black        AC/DC         1980   \n",
       "12                              Big Gun        AC/DC         1993   \n",
       "13               CAN'T STOP ROCK'N'ROLL        AC/DC          NaN   \n",
       "14          Dirty Deeds Done Dirt Cheap        AC/DC         1976   \n",
       "15              For Those About To Rock        AC/DC         1981   \n",
       "16                     Girls Got Rhythm        AC/DC          NaN   \n",
       "17                       Hard As A Rock        AC/DC         1995   \n",
       "18                   Have a Drink On Me        AC/DC         1980   \n",
       "19                          Hells Bells        AC/DC         1980   \n",
       "20                      Highway To Hell        AC/DC         1979   \n",
       "21           It's A Long Way To The Top        AC/DC         1975   \n",
       "22                            Jailbreak        AC/DC         1984   \n",
       "23                    Let There Be Rock        AC/DC         1977   \n",
       "24                      Let's Get It Up        AC/DC          NaN   \n",
       "25                            Live Wire        AC/DC          NaN   \n",
       "26                           Moneytalks        AC/DC          NaN   \n",
       "27                        Night Prowler        AC/DC         1979   \n",
       "28  Rock and Roll Ain't Noise Pollution        AC/DC         1980   \n",
       "29                      Shoot To Thrill        AC/DC          NaN   \n",
       "30                  Shot Down In Flames        AC/DC         1979   \n",
       "31                             Sin City        AC/DC          NaN   \n",
       "32                               T.N.T.        AC/DC         1975   \n",
       "33                        Thunderstruck        AC/DC         1990   \n",
       "34                       Touch Too Much        AC/DC         1979   \n",
       "35       What Do You Do For Money Honey        AC/DC          NaN   \n",
       "36                         Who Made Who        AC/DC         1986   \n",
       "37                    Whole Lotta Rosie        AC/DC         1977   \n",
       "38          You Shook Me All Night Long        AC/DC         1980   \n",
       "\n",
       "                                        COMBINED  First?  Year?  PlayCount  \\\n",
       "10                Baby, Please Don't Go by AC/DC       1      0          1   \n",
       "11                        Back In Black by AC/DC       1      1         97   \n",
       "12                              Big Gun by AC/DC       1      1          6   \n",
       "13               CAN'T STOP ROCK'N'ROLL by AC/DC       1      0          5   \n",
       "14          Dirty Deeds Done Dirt Cheap by AC/DC       1      1         85   \n",
       "15              For Those About To Rock by AC/DC       1      1         46   \n",
       "16                     Girls Got Rhythm by AC/DC       1      0         24   \n",
       "17                       Hard As A Rock by AC/DC       1      1          1   \n",
       "18                   Have a Drink On Me by AC/DC       1      1         39   \n",
       "19                          Hells Bells by AC/DC       1      1         74   \n",
       "20                      Highway To Hell by AC/DC       1      1         92   \n",
       "21           It's A Long Way To The Top by AC/DC       1      1         39   \n",
       "22                            Jailbreak by AC/DC       1      1          1   \n",
       "23                    Let There Be Rock by AC/DC       1      1          3   \n",
       "24                      Let's Get It Up by AC/DC       1      0          4   \n",
       "25                            Live Wire by AC/DC       1      0          2   \n",
       "26                           Moneytalks by AC/DC       1      0         20   \n",
       "27                        Night Prowler by AC/DC       1      1          1   \n",
       "28  Rock and Roll Ain't Noise Pollution by AC/DC       1      1         21   \n",
       "29                      Shoot To Thrill by AC/DC       1      0         45   \n",
       "30                  Shot Down In Flames by AC/DC       1      1          2   \n",
       "31                             Sin City by AC/DC       1      0          1   \n",
       "32                               T.N.T. by AC/DC       1      1         66   \n",
       "33                        Thunderstruck by AC/DC       1      1         34   \n",
       "34                       Touch Too Much by AC/DC       1      1          2   \n",
       "35       What Do You Do For Money Honey by AC/DC       1      0          2   \n",
       "36                         Who Made Who by AC/DC       1      1         12   \n",
       "37                    Whole Lotta Rosie by AC/DC       1      1          3   \n",
       "38          You Shook Me All Night Long by AC/DC       1      1        138   \n",
       "\n",
       "    F*G  \n",
       "10    0  \n",
       "11   97  \n",
       "12    6  \n",
       "13    0  \n",
       "14   85  \n",
       "15   46  \n",
       "16    0  \n",
       "17    1  \n",
       "18   39  \n",
       "19   74  \n",
       "20   92  \n",
       "21   39  \n",
       "22    1  \n",
       "23    3  \n",
       "24    0  \n",
       "25    0  \n",
       "26    0  \n",
       "27    1  \n",
       "28   21  \n",
       "29    0  \n",
       "30    2  \n",
       "31    0  \n",
       "32   66  \n",
       "33   34  \n",
       "34    2  \n",
       "35    0  \n",
       "36   12  \n",
       "37    3  \n",
       "38  138  "
      ]
     },
     "execution_count": 42,
     "metadata": {},
     "output_type": "execute_result"
    }
   ],
   "source": [
    "mask = rock['PlayCount'] > 20\n",
    "acdc = rock['ARTIST CLEAN'] == 'AC/DC'\n",
    "rock.loc[acdc]"
   ]
  },
  {
   "cell_type": "code",
   "execution_count": 32,
   "metadata": {},
   "outputs": [],
   "source": [
    "rock_clean = rock.loc[rock['Release Year'].notnull()]"
   ]
  },
  {
   "cell_type": "code",
   "execution_count": 46,
   "metadata": {},
   "outputs": [],
   "source": [
    "rock.loc[rock['Release Year'].isnull(), 'Release Year'] = 0 "
   ]
  },
  {
   "cell_type": "code",
   "execution_count": 33,
   "metadata": {},
   "outputs": [
    {
     "data": {
      "text/plain": [
       "count     1653\n",
       "unique      56\n",
       "top       1973\n",
       "freq       104\n",
       "Name: Release Year, dtype: object"
      ]
     },
     "execution_count": 33,
     "metadata": {},
     "output_type": "execute_result"
    }
   ],
   "source": [
    "rock_clean['Release Year'].describe()"
   ]
  },
  {
   "cell_type": "code",
   "execution_count": 47,
   "metadata": {},
   "outputs": [],
   "source": [
    "#rock_clean['Release Year'].astype('float')"
   ]
  },
  {
   "cell_type": "code",
   "execution_count": 48,
   "metadata": {},
   "outputs": [],
   "source": [
    "#rock['Release Year'] == 'SONGFACTS.COM'\n",
    "rock.loc[rock['Release Year'] == 'SONGFACTS.COM', 'Release Year'] = 0"
   ]
  },
  {
   "cell_type": "code",
   "execution_count": 49,
   "metadata": {},
   "outputs": [
    {
     "data": {
      "text/html": [
       "<div>\n",
       "<style scoped>\n",
       "    .dataframe tbody tr th:only-of-type {\n",
       "        vertical-align: middle;\n",
       "    }\n",
       "\n",
       "    .dataframe tbody tr th {\n",
       "        vertical-align: top;\n",
       "    }\n",
       "\n",
       "    .dataframe thead th {\n",
       "        text-align: right;\n",
       "    }\n",
       "</style>\n",
       "<table border=\"1\" class=\"dataframe\">\n",
       "  <thead>\n",
       "    <tr style=\"text-align: right;\">\n",
       "      <th></th>\n",
       "      <th>Song Clean</th>\n",
       "      <th>ARTIST CLEAN</th>\n",
       "      <th>Release Year</th>\n",
       "      <th>COMBINED</th>\n",
       "      <th>First?</th>\n",
       "      <th>Year?</th>\n",
       "      <th>PlayCount</th>\n",
       "      <th>F*G</th>\n",
       "    </tr>\n",
       "  </thead>\n",
       "  <tbody>\n",
       "    <tr>\n",
       "      <td>1</td>\n",
       "      <td>Fantasy Girl</td>\n",
       "      <td>.38 Special</td>\n",
       "      <td>0</td>\n",
       "      <td>Fantasy Girl by .38 Special</td>\n",
       "      <td>1</td>\n",
       "      <td>0</td>\n",
       "      <td>3</td>\n",
       "      <td>0</td>\n",
       "    </tr>\n",
       "    <tr>\n",
       "      <td>10</td>\n",
       "      <td>Baby, Please Don't Go</td>\n",
       "      <td>AC/DC</td>\n",
       "      <td>0</td>\n",
       "      <td>Baby, Please Don't Go by AC/DC</td>\n",
       "      <td>1</td>\n",
       "      <td>0</td>\n",
       "      <td>1</td>\n",
       "      <td>0</td>\n",
       "    </tr>\n",
       "    <tr>\n",
       "      <td>13</td>\n",
       "      <td>CAN'T STOP ROCK'N'ROLL</td>\n",
       "      <td>AC/DC</td>\n",
       "      <td>0</td>\n",
       "      <td>CAN'T STOP ROCK'N'ROLL by AC/DC</td>\n",
       "      <td>1</td>\n",
       "      <td>0</td>\n",
       "      <td>5</td>\n",
       "      <td>0</td>\n",
       "    </tr>\n",
       "    <tr>\n",
       "      <td>16</td>\n",
       "      <td>Girls Got Rhythm</td>\n",
       "      <td>AC/DC</td>\n",
       "      <td>0</td>\n",
       "      <td>Girls Got Rhythm by AC/DC</td>\n",
       "      <td>1</td>\n",
       "      <td>0</td>\n",
       "      <td>24</td>\n",
       "      <td>0</td>\n",
       "    </tr>\n",
       "    <tr>\n",
       "      <td>24</td>\n",
       "      <td>Let's Get It Up</td>\n",
       "      <td>AC/DC</td>\n",
       "      <td>0</td>\n",
       "      <td>Let's Get It Up by AC/DC</td>\n",
       "      <td>1</td>\n",
       "      <td>0</td>\n",
       "      <td>4</td>\n",
       "      <td>0</td>\n",
       "    </tr>\n",
       "    <tr>\n",
       "      <td>...</td>\n",
       "      <td>...</td>\n",
       "      <td>...</td>\n",
       "      <td>...</td>\n",
       "      <td>...</td>\n",
       "      <td>...</td>\n",
       "      <td>...</td>\n",
       "      <td>...</td>\n",
       "      <td>...</td>\n",
       "    </tr>\n",
       "    <tr>\n",
       "      <td>2216</td>\n",
       "      <td>I'm Bad, I'm Nationwide</td>\n",
       "      <td>ZZ Top</td>\n",
       "      <td>0</td>\n",
       "      <td>I'm Bad, I'm Nationwide by ZZ Top</td>\n",
       "      <td>1</td>\n",
       "      <td>0</td>\n",
       "      <td>10</td>\n",
       "      <td>0</td>\n",
       "    </tr>\n",
       "    <tr>\n",
       "      <td>2218</td>\n",
       "      <td>Just Got Paid</td>\n",
       "      <td>ZZ Top</td>\n",
       "      <td>0</td>\n",
       "      <td>Just Got Paid by ZZ Top</td>\n",
       "      <td>1</td>\n",
       "      <td>0</td>\n",
       "      <td>2</td>\n",
       "      <td>0</td>\n",
       "    </tr>\n",
       "    <tr>\n",
       "      <td>2221</td>\n",
       "      <td>My Head's In Mississippi</td>\n",
       "      <td>ZZ Top</td>\n",
       "      <td>0</td>\n",
       "      <td>My Head's In Mississippi by ZZ Top</td>\n",
       "      <td>1</td>\n",
       "      <td>0</td>\n",
       "      <td>1</td>\n",
       "      <td>0</td>\n",
       "    </tr>\n",
       "    <tr>\n",
       "      <td>2222</td>\n",
       "      <td>Party On The Patio</td>\n",
       "      <td>ZZ Top</td>\n",
       "      <td>0</td>\n",
       "      <td>Party On The Patio by ZZ Top</td>\n",
       "      <td>1</td>\n",
       "      <td>0</td>\n",
       "      <td>14</td>\n",
       "      <td>0</td>\n",
       "    </tr>\n",
       "    <tr>\n",
       "      <td>2225</td>\n",
       "      <td>She Loves My Automobile</td>\n",
       "      <td>ZZ Top</td>\n",
       "      <td>0</td>\n",
       "      <td>She Loves My Automobile by ZZ Top</td>\n",
       "      <td>1</td>\n",
       "      <td>0</td>\n",
       "      <td>1</td>\n",
       "      <td>0</td>\n",
       "    </tr>\n",
       "  </tbody>\n",
       "</table>\n",
       "<p>578 rows × 8 columns</p>\n",
       "</div>"
      ],
      "text/plain": [
       "                    Song Clean ARTIST CLEAN Release Year  \\\n",
       "1                 Fantasy Girl  .38 Special            0   \n",
       "10       Baby, Please Don't Go        AC/DC            0   \n",
       "13      CAN'T STOP ROCK'N'ROLL        AC/DC            0   \n",
       "16            Girls Got Rhythm        AC/DC            0   \n",
       "24             Let's Get It Up        AC/DC            0   \n",
       "...                        ...          ...          ...   \n",
       "2216   I'm Bad, I'm Nationwide       ZZ Top            0   \n",
       "2218             Just Got Paid       ZZ Top            0   \n",
       "2221  My Head's In Mississippi       ZZ Top            0   \n",
       "2222        Party On The Patio       ZZ Top            0   \n",
       "2225   She Loves My Automobile       ZZ Top            0   \n",
       "\n",
       "                                COMBINED  First?  Year?  PlayCount  F*G  \n",
       "1            Fantasy Girl by .38 Special       1      0          3    0  \n",
       "10        Baby, Please Don't Go by AC/DC       1      0          1    0  \n",
       "13       CAN'T STOP ROCK'N'ROLL by AC/DC       1      0          5    0  \n",
       "16             Girls Got Rhythm by AC/DC       1      0         24    0  \n",
       "24              Let's Get It Up by AC/DC       1      0          4    0  \n",
       "...                                  ...     ...    ...        ...  ...  \n",
       "2216   I'm Bad, I'm Nationwide by ZZ Top       1      0         10    0  \n",
       "2218             Just Got Paid by ZZ Top       1      0          2    0  \n",
       "2221  My Head's In Mississippi by ZZ Top       1      0          1    0  \n",
       "2222        Party On The Patio by ZZ Top       1      0         14    0  \n",
       "2225   She Loves My Automobile by ZZ Top       1      0          1    0  \n",
       "\n",
       "[578 rows x 8 columns]"
      ]
     },
     "execution_count": 49,
     "metadata": {},
     "output_type": "execute_result"
    }
   ],
   "source": [
    "rock.loc[rock['Release Year'] == 0]"
   ]
  },
  {
   "cell_type": "code",
   "execution_count": 45,
   "metadata": {},
   "outputs": [
    {
     "data": {
      "text/plain": [
       "0       1982.0\n",
       "1          NaN\n",
       "2       1981.0\n",
       "3       1980.0\n",
       "4       1975.0\n",
       "         ...  \n",
       "2225       NaN\n",
       "2226    1981.0\n",
       "2227    1975.0\n",
       "2228    1983.0\n",
       "2229    1973.0\n",
       "Name: Release Year, Length: 2229, dtype: float64"
      ]
     },
     "execution_count": 45,
     "metadata": {},
     "output_type": "execute_result"
    }
   ],
   "source": [
    "ans_6['Release Year'].astype('float')"
   ]
  },
  {
   "cell_type": "markdown",
   "metadata": {},
   "source": [
    "#### 6.B Look at the rows in which there is incorrect data in the `release` column."
   ]
  },
  {
   "cell_type": "code",
   "execution_count": 13,
   "metadata": {
    "collapsed": false,
    "jupyter": {
     "outputs_hidden": false
    }
   },
   "outputs": [],
   "source": [
    "# A:"
   ]
  },
  {
   "cell_type": "markdown",
   "metadata": {},
   "source": [
    "#### 6.C. Clean up the data. Normally we may replace the offending data with null np.nan values, however we previously converted all of the nan values in the release column to zeros so we might as well continue with the same practice. Replacing with 0 (or nan) will allow us to convert the column to numeric."
   ]
  },
  {
   "cell_type": "code",
   "execution_count": 14,
   "metadata": {
    "collapsed": false,
    "jupyter": {
     "outputs_hidden": false
    }
   },
   "outputs": [],
   "source": [
    "# A:"
   ]
  },
  {
   "cell_type": "markdown",
   "metadata": {},
   "source": [
    "### 7. Get summary statistics for the `release` column using the `.describe()` function.\n",
    "\n",
    "Now that the `release` column is finally a numeric data type, we can apply the `.describe()` function.  \n",
    "\n",
    "#### 7.A Print out the summary stats for the `release` column. What is the earliest and latest release date?"
   ]
  },
  {
   "cell_type": "code",
   "execution_count": 17,
   "metadata": {
    "collapsed": false,
    "jupyter": {
     "outputs_hidden": false
    }
   },
   "outputs": [],
   "source": [
    "# A:"
   ]
  },
  {
   "cell_type": "code",
   "execution_count": 18,
   "metadata": {},
   "outputs": [
    {
     "data": {
      "text/html": [
       "<div>\n",
       "<style scoped>\n",
       "    .dataframe tbody tr th:only-of-type {\n",
       "        vertical-align: middle;\n",
       "    }\n",
       "\n",
       "    .dataframe tbody tr th {\n",
       "        vertical-align: top;\n",
       "    }\n",
       "\n",
       "    .dataframe thead th {\n",
       "        text-align: right;\n",
       "    }\n",
       "</style>\n",
       "<table border=\"1\" class=\"dataframe\">\n",
       "  <thead>\n",
       "    <tr style=\"text-align: right;\">\n",
       "      <th></th>\n",
       "      <th>Song Clean</th>\n",
       "      <th>ARTIST CLEAN</th>\n",
       "      <th>Release Year</th>\n",
       "      <th>COMBINED</th>\n",
       "      <th>First?</th>\n",
       "      <th>Year?</th>\n",
       "      <th>PlayCount</th>\n",
       "      <th>F*G</th>\n",
       "    </tr>\n",
       "  </thead>\n",
       "  <tbody>\n",
       "    <tr>\n",
       "      <td>0</td>\n",
       "      <td>Caught Up in You</td>\n",
       "      <td>.38 Special</td>\n",
       "      <td>1982</td>\n",
       "      <td>Caught Up in You by .38 Special</td>\n",
       "      <td>1</td>\n",
       "      <td>1</td>\n",
       "      <td>82</td>\n",
       "      <td>82</td>\n",
       "    </tr>\n",
       "    <tr>\n",
       "      <td>1</td>\n",
       "      <td>Fantasy Girl</td>\n",
       "      <td>.38 Special</td>\n",
       "      <td>NaN</td>\n",
       "      <td>Fantasy Girl by .38 Special</td>\n",
       "      <td>1</td>\n",
       "      <td>0</td>\n",
       "      <td>3</td>\n",
       "      <td>0</td>\n",
       "    </tr>\n",
       "    <tr>\n",
       "      <td>2</td>\n",
       "      <td>Hold On Loosely</td>\n",
       "      <td>.38 Special</td>\n",
       "      <td>1981</td>\n",
       "      <td>Hold On Loosely by .38 Special</td>\n",
       "      <td>1</td>\n",
       "      <td>1</td>\n",
       "      <td>85</td>\n",
       "      <td>85</td>\n",
       "    </tr>\n",
       "    <tr>\n",
       "      <td>3</td>\n",
       "      <td>Rockin' Into the Night</td>\n",
       "      <td>.38 Special</td>\n",
       "      <td>1980</td>\n",
       "      <td>Rockin' Into the Night by .38 Special</td>\n",
       "      <td>1</td>\n",
       "      <td>1</td>\n",
       "      <td>18</td>\n",
       "      <td>18</td>\n",
       "    </tr>\n",
       "    <tr>\n",
       "      <td>4</td>\n",
       "      <td>Art For Arts Sake</td>\n",
       "      <td>10cc</td>\n",
       "      <td>1975</td>\n",
       "      <td>Art For Arts Sake by 10cc</td>\n",
       "      <td>1</td>\n",
       "      <td>1</td>\n",
       "      <td>1</td>\n",
       "      <td>1</td>\n",
       "    </tr>\n",
       "  </tbody>\n",
       "</table>\n",
       "</div>"
      ],
      "text/plain": [
       "               Song Clean ARTIST CLEAN Release Year  \\\n",
       "0        Caught Up in You  .38 Special         1982   \n",
       "1            Fantasy Girl  .38 Special          NaN   \n",
       "2         Hold On Loosely  .38 Special         1981   \n",
       "3  Rockin' Into the Night  .38 Special         1980   \n",
       "4       Art For Arts Sake         10cc         1975   \n",
       "\n",
       "                                COMBINED  First?  Year?  PlayCount  F*G  \n",
       "0        Caught Up in You by .38 Special       1      1         82   82  \n",
       "1            Fantasy Girl by .38 Special       1      0          3    0  \n",
       "2         Hold On Loosely by .38 Special       1      1         85   85  \n",
       "3  Rockin' Into the Night by .38 Special       1      1         18   18  \n",
       "4              Art For Arts Sake by 10cc       1      1          1    1  "
      ]
     },
     "execution_count": 18,
     "metadata": {},
     "output_type": "execute_result"
    }
   ],
   "source": [
    "rock.head()"
   ]
  },
  {
   "cell_type": "code",
   "execution_count": 19,
   "metadata": {},
   "outputs": [
    {
     "data": {
      "text/plain": [
       "count     1653\n",
       "unique      56\n",
       "top       1973\n",
       "freq       104\n",
       "Name: Release Year, dtype: object"
      ]
     },
     "execution_count": 19,
     "metadata": {},
     "output_type": "execute_result"
    }
   ],
   "source": [
    "rock['Release Year'].describe()"
   ]
  },
  {
   "cell_type": "code",
   "execution_count": 24,
   "metadata": {},
   "outputs": [],
   "source": [
    "rock['Release Year'] = rock['Release Year'].astype('float')"
   ]
  },
  {
   "cell_type": "code",
   "execution_count": 21,
   "metadata": {},
   "outputs": [
    {
     "data": {
      "text/html": [
       "<div>\n",
       "<style scoped>\n",
       "    .dataframe tbody tr th:only-of-type {\n",
       "        vertical-align: middle;\n",
       "    }\n",
       "\n",
       "    .dataframe tbody tr th {\n",
       "        vertical-align: top;\n",
       "    }\n",
       "\n",
       "    .dataframe thead th {\n",
       "        text-align: right;\n",
       "    }\n",
       "</style>\n",
       "<table border=\"1\" class=\"dataframe\">\n",
       "  <thead>\n",
       "    <tr style=\"text-align: right;\">\n",
       "      <th></th>\n",
       "      <th>Song Clean</th>\n",
       "      <th>ARTIST CLEAN</th>\n",
       "      <th>Release Year</th>\n",
       "      <th>COMBINED</th>\n",
       "      <th>First?</th>\n",
       "      <th>Year?</th>\n",
       "      <th>PlayCount</th>\n",
       "      <th>F*G</th>\n",
       "    </tr>\n",
       "  </thead>\n",
       "  <tbody>\n",
       "    <tr>\n",
       "      <td>1504</td>\n",
       "      <td>Bullfrog Blues</td>\n",
       "      <td>Rory Gallagher</td>\n",
       "      <td>SONGFACTS.COM</td>\n",
       "      <td>Bullfrog Blues by Rory Gallagher</td>\n",
       "      <td>1</td>\n",
       "      <td>1</td>\n",
       "      <td>1</td>\n",
       "      <td>1</td>\n",
       "    </tr>\n",
       "  </tbody>\n",
       "</table>\n",
       "</div>"
      ],
      "text/plain": [
       "          Song Clean    ARTIST CLEAN   Release Year  \\\n",
       "1504  Bullfrog Blues  Rory Gallagher  SONGFACTS.COM   \n",
       "\n",
       "                              COMBINED  First?  Year?  PlayCount  F*G  \n",
       "1504  Bullfrog Blues by Rory Gallagher       1      1          1    1  "
      ]
     },
     "execution_count": 21,
     "metadata": {},
     "output_type": "execute_result"
    }
   ],
   "source": [
    "rock.loc[rock['Release Year'] == 'SONGFACTS.COM']"
   ]
  },
  {
   "cell_type": "code",
   "execution_count": 22,
   "metadata": {},
   "outputs": [],
   "source": [
    "rock = rock.drop(1504)"
   ]
  },
  {
   "cell_type": "code",
   "execution_count": 23,
   "metadata": {},
   "outputs": [
    {
     "data": {
      "text/html": [
       "<div>\n",
       "<style scoped>\n",
       "    .dataframe tbody tr th:only-of-type {\n",
       "        vertical-align: middle;\n",
       "    }\n",
       "\n",
       "    .dataframe tbody tr th {\n",
       "        vertical-align: top;\n",
       "    }\n",
       "\n",
       "    .dataframe thead th {\n",
       "        text-align: right;\n",
       "    }\n",
       "</style>\n",
       "<table border=\"1\" class=\"dataframe\">\n",
       "  <thead>\n",
       "    <tr style=\"text-align: right;\">\n",
       "      <th></th>\n",
       "      <th>Song Clean</th>\n",
       "      <th>ARTIST CLEAN</th>\n",
       "      <th>Release Year</th>\n",
       "      <th>COMBINED</th>\n",
       "      <th>First?</th>\n",
       "      <th>Year?</th>\n",
       "      <th>PlayCount</th>\n",
       "      <th>F*G</th>\n",
       "    </tr>\n",
       "  </thead>\n",
       "  <tbody>\n",
       "  </tbody>\n",
       "</table>\n",
       "</div>"
      ],
      "text/plain": [
       "Empty DataFrame\n",
       "Columns: [Song Clean, ARTIST CLEAN, Release Year, COMBINED, First?, Year?, PlayCount, F*G]\n",
       "Index: []"
      ]
     },
     "execution_count": 23,
     "metadata": {},
     "output_type": "execute_result"
    }
   ],
   "source": [
    "rock.loc[rock['Release Year'] == 'SONGFACTS.COM']"
   ]
  },
  {
   "cell_type": "code",
   "execution_count": null,
   "metadata": {},
   "outputs": [],
   "source": []
  },
  {
   "cell_type": "code",
   "execution_count": null,
   "metadata": {},
   "outputs": [],
   "source": []
  },
  {
   "cell_type": "code",
   "execution_count": null,
   "metadata": {},
   "outputs": [],
   "source": []
  },
  {
   "cell_type": "markdown",
   "metadata": {},
   "source": [
    "#### 7.B Based on the summary statistics, is there anything else wrong with the `release` column? "
   ]
  },
  {
   "cell_type": "code",
   "execution_count": 55,
   "metadata": {
    "collapsed": false,
    "jupyter": {
     "outputs_hidden": false
    }
   },
   "outputs": [],
   "source": [
    "# A:\n",
    "rock.loc[rock['Release Year'] == '1071', 'Release Year'] = 1971"
   ]
  },
  {
   "cell_type": "code",
   "execution_count": 56,
   "metadata": {},
   "outputs": [
    {
     "data": {
      "text/plain": [
       "Song Clean                    Levon\n",
       "ARTIST CLEAN             Elton John\n",
       "Release Year                   1971\n",
       "COMBINED        Levon by Elton John\n",
       "First?                            1\n",
       "Year?                             1\n",
       "PlayCount                         8\n",
       "F*G                               8\n",
       "Name: 547, dtype: object"
      ]
     },
     "execution_count": 56,
     "metadata": {},
     "output_type": "execute_result"
    }
   ],
   "source": [
    "rock.iloc[547]"
   ]
  },
  {
   "cell_type": "code",
   "execution_count": null,
   "metadata": {},
   "outputs": [],
   "source": [
    "rock.loc[rows, columns] #reference by name\n",
    "rock.iloc[rows, columns] #reference by index"
   ]
  },
  {
   "cell_type": "code",
   "execution_count": 53,
   "metadata": {},
   "outputs": [
    {
     "data": {
      "text/html": [
       "<div>\n",
       "<style scoped>\n",
       "    .dataframe tbody tr th:only-of-type {\n",
       "        vertical-align: middle;\n",
       "    }\n",
       "\n",
       "    .dataframe tbody tr th {\n",
       "        vertical-align: top;\n",
       "    }\n",
       "\n",
       "    .dataframe thead th {\n",
       "        text-align: right;\n",
       "    }\n",
       "</style>\n",
       "<table border=\"1\" class=\"dataframe\">\n",
       "  <thead>\n",
       "    <tr style=\"text-align: right;\">\n",
       "      <th></th>\n",
       "      <th>Song Clean</th>\n",
       "      <th>ARTIST CLEAN</th>\n",
       "    </tr>\n",
       "  </thead>\n",
       "  <tbody>\n",
       "    <tr>\n",
       "      <td>0</td>\n",
       "      <td>Caught Up in You</td>\n",
       "      <td>.38 Special</td>\n",
       "    </tr>\n",
       "    <tr>\n",
       "      <td>1</td>\n",
       "      <td>Fantasy Girl</td>\n",
       "      <td>.38 Special</td>\n",
       "    </tr>\n",
       "    <tr>\n",
       "      <td>2</td>\n",
       "      <td>Hold On Loosely</td>\n",
       "      <td>.38 Special</td>\n",
       "    </tr>\n",
       "    <tr>\n",
       "      <td>3</td>\n",
       "      <td>Rockin' Into the Night</td>\n",
       "      <td>.38 Special</td>\n",
       "    </tr>\n",
       "    <tr>\n",
       "      <td>4</td>\n",
       "      <td>Art For Arts Sake</td>\n",
       "      <td>10cc</td>\n",
       "    </tr>\n",
       "    <tr>\n",
       "      <td>5</td>\n",
       "      <td>Kryptonite</td>\n",
       "      <td>3 Doors Down</td>\n",
       "    </tr>\n",
       "  </tbody>\n",
       "</table>\n",
       "</div>"
      ],
      "text/plain": [
       "               Song Clean  ARTIST CLEAN\n",
       "0        Caught Up in You   .38 Special\n",
       "1            Fantasy Girl   .38 Special\n",
       "2         Hold On Loosely   .38 Special\n",
       "3  Rockin' Into the Night   .38 Special\n",
       "4       Art For Arts Sake          10cc\n",
       "5              Kryptonite  3 Doors Down"
      ]
     },
     "execution_count": 53,
     "metadata": {},
     "output_type": "execute_result"
    }
   ],
   "source": [
    "rock.loc[:5, ['Song Clean', 'ARTIST CLEAN']]"
   ]
  },
  {
   "cell_type": "code",
   "execution_count": 54,
   "metadata": {},
   "outputs": [
    {
     "data": {
      "text/html": [
       "<div>\n",
       "<style scoped>\n",
       "    .dataframe tbody tr th:only-of-type {\n",
       "        vertical-align: middle;\n",
       "    }\n",
       "\n",
       "    .dataframe tbody tr th {\n",
       "        vertical-align: top;\n",
       "    }\n",
       "\n",
       "    .dataframe thead th {\n",
       "        text-align: right;\n",
       "    }\n",
       "</style>\n",
       "<table border=\"1\" class=\"dataframe\">\n",
       "  <thead>\n",
       "    <tr style=\"text-align: right;\">\n",
       "      <th></th>\n",
       "      <th>Song Clean</th>\n",
       "      <th>ARTIST CLEAN</th>\n",
       "    </tr>\n",
       "  </thead>\n",
       "  <tbody>\n",
       "    <tr>\n",
       "      <td>0</td>\n",
       "      <td>Caught Up in You</td>\n",
       "      <td>.38 Special</td>\n",
       "    </tr>\n",
       "    <tr>\n",
       "      <td>1</td>\n",
       "      <td>Fantasy Girl</td>\n",
       "      <td>.38 Special</td>\n",
       "    </tr>\n",
       "    <tr>\n",
       "      <td>2</td>\n",
       "      <td>Hold On Loosely</td>\n",
       "      <td>.38 Special</td>\n",
       "    </tr>\n",
       "    <tr>\n",
       "      <td>3</td>\n",
       "      <td>Rockin' Into the Night</td>\n",
       "      <td>.38 Special</td>\n",
       "    </tr>\n",
       "    <tr>\n",
       "      <td>4</td>\n",
       "      <td>Art For Arts Sake</td>\n",
       "      <td>10cc</td>\n",
       "    </tr>\n",
       "  </tbody>\n",
       "</table>\n",
       "</div>"
      ],
      "text/plain": [
       "               Song Clean ARTIST CLEAN\n",
       "0        Caught Up in You  .38 Special\n",
       "1            Fantasy Girl  .38 Special\n",
       "2         Hold On Loosely  .38 Special\n",
       "3  Rockin' Into the Night  .38 Special\n",
       "4       Art For Arts Sake         10cc"
      ]
     },
     "execution_count": 54,
     "metadata": {},
     "output_type": "execute_result"
    }
   ],
   "source": [
    "rock.iloc[:5, [0, 1]]"
   ]
  },
  {
   "cell_type": "code",
   "execution_count": 25,
   "metadata": {},
   "outputs": [
    {
     "data": {
      "text/plain": [
       "count    1652.000000\n",
       "mean     1978.019976\n",
       "std        24.191247\n",
       "min      1071.000000\n",
       "25%      1971.000000\n",
       "50%      1977.000000\n",
       "75%      1984.000000\n",
       "max      2014.000000\n",
       "Name: Release Year, dtype: float64"
      ]
     },
     "execution_count": 25,
     "metadata": {},
     "output_type": "execute_result"
    }
   ],
   "source": [
    "rock['Release Year'].describe()"
   ]
  },
  {
   "cell_type": "code",
   "execution_count": 20,
   "metadata": {},
   "outputs": [
    {
     "data": {
      "text/html": [
       "<div>\n",
       "<style scoped>\n",
       "    .dataframe tbody tr th:only-of-type {\n",
       "        vertical-align: middle;\n",
       "    }\n",
       "\n",
       "    .dataframe tbody tr th {\n",
       "        vertical-align: top;\n",
       "    }\n",
       "\n",
       "    .dataframe thead th {\n",
       "        text-align: right;\n",
       "    }\n",
       "</style>\n",
       "<table border=\"1\" class=\"dataframe\">\n",
       "  <thead>\n",
       "    <tr style=\"text-align: right;\">\n",
       "      <th></th>\n",
       "      <th>Song Clean</th>\n",
       "      <th>ARTIST CLEAN</th>\n",
       "      <th>Release Year</th>\n",
       "      <th>COMBINED</th>\n",
       "      <th>First?</th>\n",
       "      <th>Year?</th>\n",
       "      <th>PlayCount</th>\n",
       "      <th>F*G</th>\n",
       "    </tr>\n",
       "  </thead>\n",
       "  <tbody>\n",
       "    <tr>\n",
       "      <td>0</td>\n",
       "      <td>Caught Up in You</td>\n",
       "      <td>.38 Special</td>\n",
       "      <td>1982</td>\n",
       "      <td>Caught Up in You by .38 Special</td>\n",
       "      <td>1</td>\n",
       "      <td>1</td>\n",
       "      <td>82</td>\n",
       "      <td>82</td>\n",
       "    </tr>\n",
       "    <tr>\n",
       "      <td>1</td>\n",
       "      <td>Fantasy Girl</td>\n",
       "      <td>.38 Special</td>\n",
       "      <td>NaN</td>\n",
       "      <td>Fantasy Girl by .38 Special</td>\n",
       "      <td>1</td>\n",
       "      <td>0</td>\n",
       "      <td>3</td>\n",
       "      <td>0</td>\n",
       "    </tr>\n",
       "    <tr>\n",
       "      <td>2</td>\n",
       "      <td>Hold On Loosely</td>\n",
       "      <td>.38 Special</td>\n",
       "      <td>1981</td>\n",
       "      <td>Hold On Loosely by .38 Special</td>\n",
       "      <td>1</td>\n",
       "      <td>1</td>\n",
       "      <td>85</td>\n",
       "      <td>85</td>\n",
       "    </tr>\n",
       "    <tr>\n",
       "      <td>3</td>\n",
       "      <td>Rockin' Into the Night</td>\n",
       "      <td>.38 Special</td>\n",
       "      <td>1980</td>\n",
       "      <td>Rockin' Into the Night by .38 Special</td>\n",
       "      <td>1</td>\n",
       "      <td>1</td>\n",
       "      <td>18</td>\n",
       "      <td>18</td>\n",
       "    </tr>\n",
       "    <tr>\n",
       "      <td>4</td>\n",
       "      <td>Art For Arts Sake</td>\n",
       "      <td>10cc</td>\n",
       "      <td>1975</td>\n",
       "      <td>Art For Arts Sake by 10cc</td>\n",
       "      <td>1</td>\n",
       "      <td>1</td>\n",
       "      <td>1</td>\n",
       "      <td>1</td>\n",
       "    </tr>\n",
       "  </tbody>\n",
       "</table>\n",
       "</div>"
      ],
      "text/plain": [
       "               Song Clean ARTIST CLEAN Release Year  \\\n",
       "0        Caught Up in You  .38 Special         1982   \n",
       "1            Fantasy Girl  .38 Special          NaN   \n",
       "2         Hold On Loosely  .38 Special         1981   \n",
       "3  Rockin' Into the Night  .38 Special         1980   \n",
       "4       Art For Arts Sake         10cc         1975   \n",
       "\n",
       "                                COMBINED  First?  Year?  PlayCount  F*G  \n",
       "0        Caught Up in You by .38 Special       1      1         82   82  \n",
       "1            Fantasy Girl by .38 Special       1      0          3    0  \n",
       "2         Hold On Loosely by .38 Special       1      1         85   85  \n",
       "3  Rockin' Into the Night by .38 Special       1      1         18   18  \n",
       "4              Art For Arts Sake by 10cc       1      1          1    1  "
      ]
     },
     "execution_count": 20,
     "metadata": {},
     "output_type": "execute_result"
    }
   ],
   "source": [
    "rock.head()"
   ]
  },
  {
   "cell_type": "code",
   "execution_count": 21,
   "metadata": {},
   "outputs": [
    {
     "name": "stdout",
     "output_type": "stream",
     "text": [
      "<class 'pandas.core.frame.DataFrame'>\n",
      "RangeIndex: 2230 entries, 0 to 2229\n",
      "Data columns (total 8 columns):\n",
      "Song Clean      2230 non-null object\n",
      "ARTIST CLEAN    2230 non-null object\n",
      "Release Year    1653 non-null object\n",
      "COMBINED        2230 non-null object\n",
      "First?          2230 non-null int64\n",
      "Year?           2230 non-null int64\n",
      "PlayCount       2230 non-null int64\n",
      "F*G             2230 non-null int64\n",
      "dtypes: int64(4), object(4)\n",
      "memory usage: 139.5+ KB\n"
     ]
    }
   ],
   "source": [
    "rock.info()"
   ]
  },
  {
   "cell_type": "code",
   "execution_count": 38,
   "metadata": {},
   "outputs": [],
   "source": [
    "def retu(x):\n",
    "    return x['Song Clean']"
   ]
  },
  {
   "cell_type": "code",
   "execution_count": 39,
   "metadata": {},
   "outputs": [
    {
     "data": {
      "text/plain": [
       "0                                  Caught Up in You\n",
       "1                                      Fantasy Girl\n",
       "2                                   Hold On Loosely\n",
       "3                            Rockin' Into the Night\n",
       "4                                 Art For Arts Sake\n",
       "                           ...                     \n",
       "2225                        She Loves My Automobile\n",
       "2226                              Tube Snake Boogie\n",
       "2227                                           Tush\n",
       "2228                                     TV Dinners\n",
       "2229    WAITIN' FOR THE BUS/JESUS JUST LEFT CHICAGO\n",
       "Length: 2230, dtype: object"
      ]
     },
     "execution_count": 39,
     "metadata": {},
     "output_type": "execute_result"
    }
   ],
   "source": [
    "rock.apply(retu, axis = 1)"
   ]
  },
  {
   "cell_type": "code",
   "execution_count": null,
   "metadata": {},
   "outputs": [],
   "source": []
  },
  {
   "cell_type": "code",
   "execution_count": null,
   "metadata": {},
   "outputs": [],
   "source": []
  },
  {
   "cell_type": "markdown",
   "metadata": {},
   "source": [
    "_Looking at the DataFrame that contains the year 1071, we can see that the year was probably corrupted and should be replaced with something else if possible._"
   ]
  },
  {
   "cell_type": "markdown",
   "metadata": {},
   "source": [
    "### 8. Make changes and investigate using custom functions with `.apply()`.\n",
    "\n",
    "Let's say we want to traverse every single row in our data set and apply a function to that row.\n",
    "\n",
    "#### 8.A Write a function that will take a row of a DataFrame and print out the song, artist, and whether or not the release date is < 1970.\n"
   ]
  },
  {
   "cell_type": "code",
   "execution_count": 17,
   "metadata": {
    "collapsed": true,
    "jupyter": {
     "outputs_hidden": true
    }
   },
   "outputs": [],
   "source": [
    "# A:"
   ]
  },
  {
   "cell_type": "markdown",
   "metadata": {},
   "source": [
    "#### 8.B Using the `.apply()` function, apply the function you wrote to the first four rows of the DataFrame.\n",
    "\n",
    "You will need to tell the `apply` function to operate row by row. Setting the keyword argument as `axis=1` indicates that the function should be applied to each row individually."
   ]
  },
  {
   "cell_type": "code",
   "execution_count": 18,
   "metadata": {
    "collapsed": false,
    "jupyter": {
     "outputs_hidden": false
    }
   },
   "outputs": [],
   "source": [
    "# A:"
   ]
  },
  {
   "cell_type": "markdown",
   "metadata": {},
   "source": [
    "You'll notice that there will be a final output Series of `None` values. The `.apply()` function, if a return value is not specified, will return a Series of `None` values (similar to how the default return for Python functions is `None` when a return statement is not specified)."
   ]
  },
  {
   "cell_type": "markdown",
   "metadata": {},
   "source": [
    "### 9. Write a function that converts cells in a DataFrame to float and otherwise replaces them with `np.nan`.\n",
    "\n",
    "If applied to our data, it would keep only the numeric information and otherwise input null values.\n",
    "\n",
    "Recall that the try-except syntax in Python is a great way to try something and take another action if the initial step fails:\n",
    "\n",
    "```python\n",
    "try:\n",
    "    Perform some action.\n",
    "except:\n",
    "   Perform some other action if the first failed with an error.\n",
    "```\n",
    "\n",
    "#### 9.A Write the function that takes a column and converts all of its values to float if possible and `np.nan` otherwise. The return value should be the converted Series."
   ]
  },
  {
   "cell_type": "code",
   "execution_count": 19,
   "metadata": {
    "collapsed": false,
    "jupyter": {
     "outputs_hidden": false
    }
   },
   "outputs": [],
   "source": [
    "# A:"
   ]
  },
  {
   "cell_type": "markdown",
   "metadata": {},
   "source": [
    "#### 9.B Try your function out on the rock song data and ensure the output is what you expected.\n"
   ]
  },
  {
   "cell_type": "code",
   "execution_count": 20,
   "metadata": {
    "collapsed": false,
    "jupyter": {
     "outputs_hidden": false
    }
   },
   "outputs": [],
   "source": [
    "# A:"
   ]
  },
  {
   "cell_type": "markdown",
   "metadata": {},
   "source": [
    "#### 9.C Describe the new float-only DataFrame."
   ]
  },
  {
   "cell_type": "code",
   "execution_count": 21,
   "metadata": {
    "collapsed": false,
    "jupyter": {
     "outputs_hidden": false
    }
   },
   "outputs": [],
   "source": [
    "# A:"
   ]
  }
 ],
 "metadata": {
  "anaconda-cloud": {},
  "kernelspec": {
   "display_name": "Python 3",
   "language": "python",
   "name": "python3"
  },
  "language_info": {
   "codemirror_mode": {
    "name": "ipython",
    "version": 3
   },
   "file_extension": ".py",
   "mimetype": "text/x-python",
   "name": "python",
   "nbconvert_exporter": "python",
   "pygments_lexer": "ipython3",
   "version": "3.7.4"
  }
 },
 "nbformat": 4,
 "nbformat_minor": 4
}
