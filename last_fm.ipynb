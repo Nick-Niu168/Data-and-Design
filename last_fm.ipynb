{
 "cells": [
  {
   "cell_type": "code",
   "execution_count": 2,
   "metadata": {},
   "outputs": [
    {
     "name": "stdout",
     "output_type": "stream",
     "text": [
      "Collecting pylast\n",
      "  Downloading pylast-3.2.1-py3-none-any.whl (28 kB)\n",
      "Installing collected packages: pylast\n",
      "Successfully installed pylast-3.2.1\n"
     ]
    }
   ],
   "source": [
    "!pip install pylast\n",
    "import pylast\n"
   ]
  },
  {
   "cell_type": "code",
   "execution_count": 3,
   "metadata": {},
   "outputs": [
    {
     "name": "stdout",
     "output_type": "stream",
     "text": [
      "Eric B. & Rakim - Don't Sweat The Technique\n",
      "https://www.last.fm/music/eric%2bb.%2b%2526%2brakim/_/don%2527t%2bsweat%2bthe%2btechnique\n"
     ]
    },
    {
     "data": {
      "text/html": [
       "<img src='https://lastfm.freetls.fastly.net/i/u/300x300/f4082677814e4516a8a6a360eef24df0.png'>"
      ],
      "text/plain": [
       "<IPython.core.display.HTML object>"
      ]
     },
     "execution_count": 3,
     "metadata": {},
     "output_type": "execute_result"
    }
   ],
   "source": [
    "from IPython.core.display import HTML\n",
    "import pylast\n",
    "\n",
    "# You have to have your own unique two values for API_KEY and API_SECRET\n",
    "# Obtain yours from https://www.last.fm/api/account/create for Last.fm\n",
    "API_KEY = \"5411ef7b249602ca529c47306f711781\"  # this is a sample key\n",
    "API_SECRET = \"f473924eb609b5f484770d557a401a41\"\n",
    "\n",
    "network = pylast.LastFMNetwork(api_key=API_KEY, api_secret=API_SECRET)\n",
    "track   = network.get_track(\"Eric B. & Rakim\", \"Don't Sweat The Technique\") # A wonderful song with math\n",
    "album_image = track.get_cover_image()\n",
    "print(track.get_album())\n",
    "print(track.get_url())\n",
    "HTML(\"<img src='{}'>\".format(album_image))"
   ]
  },
  {
   "cell_type": "code",
   "execution_count": 4,
   "metadata": {},
   "outputs": [
    {
     "data": {
      "text/plain": [
       "pylast.Track('Eric B. & Rakim', \"Don't Sweat The Technique\", pylast.LastFMNetwork('5411ef7b249602ca529c47306f711781', 'f473924eb609b5f484770d557a401a41', '', '', ''))"
      ]
     },
     "execution_count": 4,
     "metadata": {},
     "output_type": "execute_result"
    }
   ],
   "source": [
    "track"
   ]
  },
  {
   "cell_type": "code",
   "execution_count": 5,
   "metadata": {},
   "outputs": [],
   "source": [
    "album = network.get_album(\"eric b. & rakim\", \"Don't sweat the technique\")"
   ]
  },
  {
   "cell_type": "code",
   "execution_count": 6,
   "metadata": {},
   "outputs": [],
   "source": [
    "import pandas as pd"
   ]
  },
  {
   "cell_type": "code",
   "execution_count": 8,
   "metadata": {},
   "outputs": [],
   "source": [
    "df = pd.read_json('big_one.json')"
   ]
  },
  {
   "cell_type": "code",
   "execution_count": 13,
   "metadata": {},
   "outputs": [
    {
     "data": {
      "text/html": [
       "<div>\n",
       "<style scoped>\n",
       "    .dataframe tbody tr th:only-of-type {\n",
       "        vertical-align: middle;\n",
       "    }\n",
       "\n",
       "    .dataframe tbody tr th {\n",
       "        vertical-align: top;\n",
       "    }\n",
       "\n",
       "    .dataframe thead th {\n",
       "        text-align: right;\n",
       "    }\n",
       "</style>\n",
       "<table border=\"1\" class=\"dataframe\">\n",
       "  <thead>\n",
       "    <tr style=\"text-align: right;\">\n",
       "      <th></th>\n",
       "      <th>artists</th>\n",
       "      <th>album</th>\n",
       "      <th>text</th>\n",
       "    </tr>\n",
       "  </thead>\n",
       "  <tbody>\n",
       "    <tr>\n",
       "      <td>0</td>\n",
       "      <td>[Smoke DZA]</td>\n",
       "      <td>[Not for Sale]</td>\n",
       "      <td>[Harlem rapper Smoke DZA keeps it real on , , ...</td>\n",
       "    </tr>\n",
       "    <tr>\n",
       "      <td>1</td>\n",
       "      <td>[Makeness]</td>\n",
       "      <td>[Loud Patterns]</td>\n",
       "      <td>[The first full-length album from the British ...</td>\n",
       "    </tr>\n",
       "    <tr>\n",
       "      <td>2</td>\n",
       "      <td>[Ricky Eat Acid]</td>\n",
       "      <td>[am i happy, singing_]</td>\n",
       "      <td>[On this three-track album from Sam Ray’s elec...</td>\n",
       "    </tr>\n",
       "    <tr>\n",
       "      <td>3</td>\n",
       "      <td>[Entourage]</td>\n",
       "      <td>[Ceremony of Dreams: Studio Sessions &amp; Outtake...</td>\n",
       "      <td>[The unearthing of these odd compositions from...</td>\n",
       "    </tr>\n",
       "    <tr>\n",
       "      <td>4</td>\n",
       "      <td>[The Weeknd]</td>\n",
       "      <td>[My Dear Melancholy,]</td>\n",
       "      <td>[The Weeknd’s new six-song album finds him in ...</td>\n",
       "    </tr>\n",
       "  </tbody>\n",
       "</table>\n",
       "</div>"
      ],
      "text/plain": [
       "            artists                                              album  \\\n",
       "0       [Smoke DZA]                                     [Not for Sale]   \n",
       "1        [Makeness]                                    [Loud Patterns]   \n",
       "2  [Ricky Eat Acid]                             [am i happy, singing_]   \n",
       "3       [Entourage]  [Ceremony of Dreams: Studio Sessions & Outtake...   \n",
       "4      [The Weeknd]                              [My Dear Melancholy,]   \n",
       "\n",
       "                                                text  \n",
       "0  [Harlem rapper Smoke DZA keeps it real on , , ...  \n",
       "1  [The first full-length album from the British ...  \n",
       "2  [On this three-track album from Sam Ray’s elec...  \n",
       "3  [The unearthing of these odd compositions from...  \n",
       "4  [The Weeknd’s new six-song album finds him in ...  "
      ]
     },
     "execution_count": 13,
     "metadata": {},
     "output_type": "execute_result"
    }
   ],
   "source": [
    "df.head()"
   ]
  },
  {
   "cell_type": "code",
   "execution_count": 15,
   "metadata": {},
   "outputs": [
    {
     "name": "stdout",
     "output_type": "stream",
     "text": [
      "<class 'pandas.core.frame.DataFrame'>\n",
      "RangeIndex: 708 entries, 0 to 707\n",
      "Data columns (total 3 columns):\n",
      "artists    708 non-null object\n",
      "album      708 non-null object\n",
      "text       708 non-null object\n",
      "dtypes: object(3)\n",
      "memory usage: 16.7+ KB\n"
     ]
    }
   ],
   "source": [
    "df.info()"
   ]
  },
  {
   "cell_type": "code",
   "execution_count": 31,
   "metadata": {},
   "outputs": [
    {
     "data": {
      "text/html": [
       "<img src = https://lastfm.freetls.fastly.net/i/u/300x300/2a96cbd8b46e442fc41c2b86b821562f.png/>"
      ],
      "text/plain": [
       "<IPython.core.display.HTML object>"
      ]
     },
     "execution_count": 31,
     "metadata": {},
     "output_type": "execute_result"
    }
   ],
   "source": [
    "HTML(f\"<img src = {network.get_('Stevie Wonder').get_cover_image()}/>\")"
   ]
  },
  {
   "cell_type": "code",
   "execution_count": 32,
   "metadata": {},
   "outputs": [],
   "source": [
    "g = network.get_artist('grimes')"
   ]
  },
  {
   "cell_type": "code",
   "execution_count": 33,
   "metadata": {},
   "outputs": [
    {
     "data": {
      "text/plain": [
       "[TopItem(item=pylast.Album('Grimes', 'Visions', pylast.LastFMNetwork('5411ef7b249602ca529c47306f711781', 'f473924eb609b5f484770d557a401a41', '', '', '')), weight=26303666)]"
      ]
     },
     "execution_count": 33,
     "metadata": {},
     "output_type": "execute_result"
    }
   ],
   "source": [
    "g.get_top_albums()"
   ]
  },
  {
   "cell_type": "code",
   "execution_count": 35,
   "metadata": {},
   "outputs": [
    {
     "name": "stdout",
     "output_type": "stream",
     "text": [
      "The musician Claire Boucher, better known as Grimes, was born on 17 March 1988 in Vancouver, Canada and is based in Los Angeles. Her music is an eclectic mix of styles which she described herself as \"ADD music\", because it shifts frequently and dramatically. She fuses contemporary instrumentation with classical vocal practices.\n",
      "\n",
      "Boucher was born and raised in Vancouver, British Columbia. In 2006, she moved to Montreal, Canada to attend Montreal's McGill University, studying Russian literature and later, neuroscience. <a href=\"https://www.last.fm/music/Grimes\">Read more on Last.fm</a>\n"
     ]
    }
   ],
   "source": [
    "print(g.get_bio_summary())"
   ]
  },
  {
   "cell_type": "code",
   "execution_count": 39,
   "metadata": {},
   "outputs": [],
   "source": [
    "top_tracks = g.get_top_tracks(5)"
   ]
  },
  {
   "cell_type": "code",
   "execution_count": 42,
   "metadata": {},
   "outputs": [
    {
     "data": {
      "text/plain": [
       "[TopItem(item=pylast.Track('Grimes', 'Oblivion', pylast.LastFMNetwork('5411ef7b249602ca529c47306f711781', 'f473924eb609b5f484770d557a401a41', '', '', '')), weight=5610453),\n",
       " TopItem(item=pylast.Track('Grimes', 'Genesis', pylast.LastFMNetwork('5411ef7b249602ca529c47306f711781', 'f473924eb609b5f484770d557a401a41', '', '', '')), weight=5378315),\n",
       " TopItem(item=pylast.Track('Grimes', 'Be a Body (侘寂)', pylast.LastFMNetwork('5411ef7b249602ca529c47306f711781', 'f473924eb609b5f484770d557a401a41', '', '', '')), weight=2040238),\n",
       " TopItem(item=pylast.Track('Grimes', 'Circumambient', pylast.LastFMNetwork('5411ef7b249602ca529c47306f711781', 'f473924eb609b5f484770d557a401a41', '', '', '')), weight=1949265),\n",
       " TopItem(item=pylast.Track('Grimes', 'Eight', pylast.LastFMNetwork('5411ef7b249602ca529c47306f711781', 'f473924eb609b5f484770d557a401a41', '', '', '')), weight=1713305)]"
      ]
     },
     "execution_count": 42,
     "metadata": {},
     "output_type": "execute_result"
    }
   ],
   "source": [
    "top_tracks"
   ]
  },
  {
   "cell_type": "code",
   "execution_count": 43,
   "metadata": {},
   "outputs": [
    {
     "data": {
      "text/plain": [
       "pylast.Track('grimes', 'eight', pylast.LastFMNetwork('5411ef7b249602ca529c47306f711781', 'f473924eb609b5f484770d557a401a41', '', '', ''))"
      ]
     },
     "execution_count": 43,
     "metadata": {},
     "output_type": "execute_result"
    }
   ],
   "source": [
    "network.get_track('grimes', 'eight')"
   ]
  },
  {
   "cell_type": "code",
   "execution_count": 46,
   "metadata": {},
   "outputs": [
    {
     "data": {
      "text/plain": [
       "pylast.User('', pylast.LastFMNetwork('5411ef7b249602ca529c47306f711781', 'f473924eb609b5f484770d557a401a41', '', '', ''))"
      ]
     },
     "execution_count": 46,
     "metadata": {},
     "output_type": "execute_result"
    }
   ],
   "source": [
    "import datetime\n",
    "network.get_authenticated_user()"
   ]
  },
  {
   "cell_type": "code",
   "execution_count": null,
   "metadata": {},
   "outputs": [],
   "source": []
  }
 ],
 "metadata": {
  "kernelspec": {
   "display_name": "Python 3",
   "language": "python",
   "name": "python3"
  },
  "language_info": {
   "codemirror_mode": {
    "name": "ipython",
    "version": 3
   },
   "file_extension": ".py",
   "mimetype": "text/x-python",
   "name": "python",
   "nbconvert_exporter": "python",
   "pygments_lexer": "ipython3",
   "version": "3.7.4"
  },
  "widgets": {
   "application/vnd.jupyter.widget-state+json": {
    "state": {},
    "version_major": 2,
    "version_minor": 0
   }
  }
 },
 "nbformat": 4,
 "nbformat_minor": 4
}
