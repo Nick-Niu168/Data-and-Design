{
 "cells": [
  {
   "cell_type": "code",
   "execution_count": 3,
   "metadata": {},
   "outputs": [
    {
     "data": {
      "text/html": [
       "<h5>Game: Ms.PacMan Clone</h5>\n",
       "      <p>Released: 2016-06-04</p>\n",
       "      <p>Score: 13.857307</p>\n",
       "      <img src = https://media.rawg.io/media/screenshots/69b/69bfaf1abe27fd29e782393d8727afc9.jpg height = 100 />"
      ],
      "text/plain": [
       "<IPython.core.display.HTML object>"
      ]
     },
     "execution_count": 3,
     "metadata": {},
     "output_type": "execute_result"
    }
   ],
   "source": [
    "import requests\n",
    "\n",
    "r = requests.get('https://api.rawg.io/api/games?page_size=5&search=misspacman')\n",
    "\n",
    "results = r.json()\n",
    "\n",
    "first_result = results['results'][0]\n",
    "\n",
    "name = first_result['name']\n",
    "released = first_result['released']\n",
    "image = first_result['short_screenshots'][0]['image']\n",
    "score = first_result['score']\n",
    "\n",
    "%matplotlib inline\n",
    "import matplotlib.pyplot as plt\n",
    "\n",
    "from IPython.display import HTML, Image\n",
    "\n",
    "HTML(f'''<h5>Game: {name}</h5>\n",
    "      <p>Released: {released}</p>\n",
    "      <p>Score: {score}</p>\n",
    "      <img src = {image} height = 100 />''')"
   ]
  },
  {
   "cell_type": "code",
   "execution_count": 34,
   "metadata": {},
   "outputs": [],
   "source": [
    "r = requests.get('https://api.rawg.io/api/games?page_size=5&search=sim')\n",
    "\n",
    "results = r.json()\n",
    "\n",
    "first_result = results['results'][0]"
   ]
  },
  {
   "cell_type": "code",
   "execution_count": 37,
   "metadata": {},
   "outputs": [
    {
     "data": {
      "text/plain": [
       "'https://media.rawg.io/media/screenshots/d00/d0098e5700ff9483b9750a7d03823c27.jpg'"
      ]
     },
     "execution_count": 37,
     "metadata": {},
     "output_type": "execute_result"
    }
   ],
   "source": [
    "first_result['short_screenshots'][0]['image']"
   ]
  },
  {
   "cell_type": "code",
   "execution_count": null,
   "metadata": {},
   "outputs": [],
   "source": []
  }
 ],
 "metadata": {
  "kernelspec": {
   "display_name": "Python 3",
   "language": "python",
   "name": "python3"
  },
  "language_info": {
   "codemirror_mode": {
    "name": "ipython",
    "version": 3
   },
   "file_extension": ".py",
   "mimetype": "text/x-python",
   "name": "python",
   "nbconvert_exporter": "python",
   "pygments_lexer": "ipython3",
   "version": "3.7.4"
  },
  "widgets": {
   "application/vnd.jupyter.widget-state+json": {
    "state": {},
    "version_major": 2,
    "version_minor": 0
   }
  }
 },
 "nbformat": 4,
 "nbformat_minor": 4
}
