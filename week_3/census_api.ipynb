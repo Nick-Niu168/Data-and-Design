{
 "cells": [
  {
   "cell_type": "markdown",
   "metadata": {},
   "source": [
    "### Census Data"
   ]
  },
  {
   "cell_type": "code",
   "execution_count": 1,
   "metadata": {},
   "outputs": [
    {
     "ename": "NameError",
     "evalue": "name 'pd' is not defined",
     "output_type": "error",
     "traceback": [
      "\u001b[0;31m---------------------------------------------------------------------------\u001b[0m",
      "\u001b[0;31mNameError\u001b[0m                                 Traceback (most recent call last)",
      "\u001b[0;32m<ipython-input-1-e5c40eacb928>\u001b[0m in \u001b[0;36m<module>\u001b[0;34m\u001b[0m\n\u001b[1;32m      6\u001b[0m \u001b[0mr\u001b[0m \u001b[0;34m=\u001b[0m \u001b[0mrequests\u001b[0m\u001b[0;34m.\u001b[0m\u001b[0mget\u001b[0m\u001b[0;34m(\u001b[0m\u001b[0murl\u001b[0m\u001b[0;34m)\u001b[0m\u001b[0;34m\u001b[0m\u001b[0;34m\u001b[0m\u001b[0m\n\u001b[1;32m      7\u001b[0m \u001b[0;34m\u001b[0m\u001b[0m\n\u001b[0;32m----> 8\u001b[0;31m \u001b[0mdf\u001b[0m \u001b[0;34m=\u001b[0m \u001b[0mpd\u001b[0m\u001b[0;34m.\u001b[0m\u001b[0mDataFrame\u001b[0m\u001b[0;34m(\u001b[0m\u001b[0mr\u001b[0m\u001b[0;34m.\u001b[0m\u001b[0mjson\u001b[0m\u001b[0;34m(\u001b[0m\u001b[0;34m)\u001b[0m\u001b[0;34m)\u001b[0m\u001b[0;34m\u001b[0m\u001b[0;34m\u001b[0m\u001b[0m\n\u001b[0m\u001b[1;32m      9\u001b[0m \u001b[0;34m\u001b[0m\u001b[0m\n\u001b[1;32m     10\u001b[0m \u001b[0mr\u001b[0m \u001b[0;34m=\u001b[0m \u001b[0mrequests\u001b[0m\u001b[0;34m.\u001b[0m\u001b[0mget\u001b[0m\u001b[0;34m(\u001b[0m\u001b[0murl2\u001b[0m\u001b[0;34m)\u001b[0m\u001b[0;34m\u001b[0m\u001b[0;34m\u001b[0m\u001b[0m\n",
      "\u001b[0;31mNameError\u001b[0m: name 'pd' is not defined"
     ]
    }
   ],
   "source": [
    "import requests\n",
    "\n",
    "url = 'https://api.census.gov/data/2018/acs/acs5/profile?get=group(DP03),NAME&for=metropolitan%20statistical%20area/micropolitan%20statistical%20area:*'\n",
    "url2 = 'https://api.census.gov/data/2017/acs/acs5/profile?get=group(DP03),NAME&for=metropolitan%20statistical%20area/micropolitan%20statistical%20area:*'\n",
    "\n",
    "r = requests.get(url)\n",
    "\n",
    "df = pd.DataFrame(r.json())\n",
    "\n",
    "r = requests.get(url2)\n",
    "\n",
    "df2 = pd.DataFrame(r.json())\n",
    "\n",
    "df2.head()\n",
    "\n",
    "df.head()\n",
    "\n",
    "df.info()\n",
    "\n",
    "lc = pd.read_csv('labels.csv')\n",
    "\n",
    "lc.head()\n",
    "\n",
    "code_dict = {v:k for v,k in zip(lc.columns, lc.iloc[0, :])}\n",
    "\n",
    "df.head()\n",
    "\n",
    "df.columns = df.iloc[0, :]\n",
    "\n",
    "df.head()\n",
    "\n",
    "df = df.rename(columns = code_dict)\n",
    "\n",
    "df.drop(0, inplace = True)\n",
    "\n",
    "df.head()\n",
    "\n",
    "df['cities'] = df['Geographic Area Name'].str.replace('Micro Area', '').str.replace('Metro Area', '')\n",
    "\n",
    "df['cities']\n",
    "\n",
    "df['states'] = df['cities'].str.split(',').apply(lambda x: x[1].strip())\n",
    "\n",
    "df['Estimate!!CLASS OF WORKER!!Civilian employed population 16 years and over'].dtype\n",
    "\n",
    "df['Estimate!!CLASS OF WORKER!!Civilian employed population 16 years and over'] = df['Estimate!!CLASS OF WORKER!!Civilian employed population 16 years and over'].astype('float')\n",
    "\n",
    "df['Estimate!!CLASS OF WORKER!!Civilian employed population 16 years and over'].hist()\n",
    "\n",
    "known_stats = df.loc[df['Estimate!!CLASS OF WORKER!!Civilian employed population 16 years and over'] >= 0]\n",
    "\n",
    "known_stats['Estimate!!CLASS OF WORKER!!Civilian employed population 16 years and over'].hist(bins = 100)\n",
    "\n",
    "known_stats['Estimate!!CLASS OF WORKER!!Civilian employed population 16 years and over'].describe()\n",
    "\n",
    "known_stats.groupby('states')['Estimate!!CLASS OF WORKER!!Civilian employed population 16 years and over'].mean().plot(kind = 'bar', figsize = (17, 5))\n",
    "plt.title('Civilian employed population 16 years and over by state area')\n",
    "plt.grid()\n",
    "\n",
    "known_stats[known_stats['states'] == 'AK']\n",
    "\n",
    "known_stats[known_stats['states'] == 'NY']"
   ]
  },
  {
   "cell_type": "code",
   "execution_count": null,
   "metadata": {},
   "outputs": [],
   "source": []
  }
 ],
 "metadata": {
  "kernelspec": {
   "display_name": "Python 3",
   "language": "python",
   "name": "python3"
  },
  "language_info": {
   "codemirror_mode": {
    "name": "ipython",
    "version": 3
   },
   "file_extension": ".py",
   "mimetype": "text/x-python",
   "name": "python",
   "nbconvert_exporter": "python",
   "pygments_lexer": "ipython3",
   "version": "3.7.4"
  }
 },
 "nbformat": 4,
 "nbformat_minor": 4
}
